{
 "cells": [
  {
   "cell_type": "code",
   "execution_count": 170,
   "metadata": {},
   "outputs": [],
   "source": [
    "import matplotlib.pyplot as plt\n",
    "import pandas as pd\n",
    "import numpy as np\n",
    "import tensorflow\n",
    "from tensorflow import keras\n",
    "from sklearn.datasets import make_moons\n",
    "from sklearn.model_selection import train_test_split\n",
    "from sklearn.preprocessing import StandardScaler\n",
    "from tensorflow.keras import Sequential\n",
    "from tensorflow.keras.layers import Dense"
   ]
  },
  {
   "cell_type": "code",
   "execution_count": 171,
   "metadata": {},
   "outputs": [],
   "source": [
    "x,y = make_moons(n_samples=250,noise=0.05,random_state=42)"
   ]
  },
  {
   "cell_type": "code",
   "execution_count": 172,
   "metadata": {},
   "outputs": [
    {
     "data": {
      "text/plain": [
       "array([[ 8.41540974e-02,  1.13341197e-01],\n",
       "       [ 1.05091536e+00,  1.54710235e-01],\n",
       "       [-7.16555269e-01,  6.75607887e-01],\n",
       "       [ 6.09316755e-02,  9.26542340e-01],\n",
       "       [-1.00552480e+00,  3.36425155e-01],\n",
       "       [ 7.63045744e-01, -4.82519400e-01],\n",
       "       [ 1.30067681e+00, -4.60456076e-01],\n",
       "       [ 8.93997023e-01, -5.39443631e-01],\n",
       "       [ 1.01492378e+00,  2.49633435e-01],\n",
       "       [-8.88621081e-01,  5.38566586e-01],\n",
       "       [ 1.36613788e+00, -3.56819676e-01],\n",
       "       [ 1.69872955e+00, -2.50238607e-01],\n",
       "       [ 1.93909982e+00,  7.98335031e-02],\n",
       "       [ 1.98164910e+00,  2.73166182e-01],\n",
       "       [-1.92842298e-01,  9.90722796e-01],\n",
       "       [ 1.87318667e+00, -1.28604429e-01],\n",
       "       [ 1.12842503e+00, -4.29068613e-01],\n",
       "       [ 9.60365014e-01,  5.24004362e-01],\n",
       "       [ 6.83418960e-01, -4.32057757e-01],\n",
       "       [ 8.36557987e-01,  5.74232279e-01],\n",
       "       [ 2.04424212e+00,  4.47864563e-01],\n",
       "       [ 7.89541222e-01,  4.20628768e-01],\n",
       "       [-8.99855447e-01,  3.09253977e-01],\n",
       "       [-1.70083737e-01,  1.01364818e+00],\n",
       "       [ 8.64100790e-01, -4.62976070e-01],\n",
       "       [ 4.16929826e-01,  9.18202726e-01],\n",
       "       [ 2.06768552e-01,  9.66869965e-01],\n",
       "       [ 9.98383587e-01,  1.53441053e-01],\n",
       "       [ 7.41612725e-01,  6.91498410e-01],\n",
       "       [-1.00574217e+00,  7.74054546e-02],\n",
       "       [ 1.31683658e+00, -4.78428187e-01],\n",
       "       [ 5.54481432e-01,  7.28612668e-01],\n",
       "       [ 1.35858678e-01,  8.88735937e-02],\n",
       "       [ 1.75654841e+00, -2.42976963e-01],\n",
       "       [ 7.40743386e-01,  5.54338955e-01],\n",
       "       [-9.97524363e-01,  2.64286007e-01],\n",
       "       [ 9.20293241e-01,  5.29340369e-01],\n",
       "       [ 1.19270090e+00, -5.58707061e-01],\n",
       "       [ 8.56420100e-01, -5.56110065e-01],\n",
       "       [ 2.89464236e-01, -2.34008340e-01],\n",
       "       [-9.96733805e-01,  1.17069019e-01],\n",
       "       [-7.55340560e-01,  6.30902041e-01],\n",
       "       [-8.24480429e-01,  3.60565618e-01],\n",
       "       [ 9.03680204e-01, -5.21468166e-01],\n",
       "       [ 1.75437757e+00, -1.02159856e-01],\n",
       "       [ 8.19380922e-01,  4.15657148e-01],\n",
       "       [ 1.11163727e-01,  3.15453600e-02],\n",
       "       [-1.78801952e-01,  1.01024975e+00],\n",
       "       [ 6.33124657e-01, -4.15851002e-01],\n",
       "       [ 6.54456705e-01,  7.83801620e-01],\n",
       "       [ 1.03252524e-02,  2.99269369e-01],\n",
       "       [ 1.90041253e+00, -9.29652950e-02],\n",
       "       [ 1.92478212e+00,  1.95990042e-01],\n",
       "       [-9.98773046e-01,  8.66633440e-02],\n",
       "       [ 2.01607705e-02,  2.32763980e-01],\n",
       "       [-1.06941992e-01,  1.03645475e+00],\n",
       "       [ 1.67299917e+00, -2.35023613e-01],\n",
       "       [ 2.71539502e-01, -5.81445137e-02],\n",
       "       [ 4.97623260e-01, -2.90178812e-01],\n",
       "       [ 1.81516796e+00,  2.61465591e-02],\n",
       "       [ 1.90198850e+00,  6.48805981e-02],\n",
       "       [ 3.27847838e-01, -1.77111950e-01],\n",
       "       [-1.00837743e+00,  7.17300661e-02],\n",
       "       [-5.49966384e-01,  8.55604463e-01],\n",
       "       [ 9.06805597e-05,  5.37796764e-01],\n",
       "       [ 6.11375169e-01, -3.53652874e-01],\n",
       "       [ 2.02325774e+00,  4.06240765e-01],\n",
       "       [-8.70031210e-01,  3.97519601e-01],\n",
       "       [ 6.66505683e-01, -3.38205158e-01],\n",
       "       [ 1.94000221e+00,  1.15502286e-01],\n",
       "       [-2.52781645e-01,  1.01822885e+00],\n",
       "       [ 3.54686494e-01, -1.88981657e-01],\n",
       "       [-1.00756489e+00,  1.82643859e-01],\n",
       "       [-3.50689868e-01,  8.82880254e-01],\n",
       "       [ 1.95965424e+00,  1.79135608e-01],\n",
       "       [-4.23791395e-01,  8.09785398e-01],\n",
       "       [ 8.19759719e-01,  6.21324827e-01],\n",
       "       [-6.15906179e-02,  4.33434719e-01],\n",
       "       [-3.19944988e-01,  9.06668534e-01],\n",
       "       [-5.44796440e-01,  8.11568854e-01],\n",
       "       [ 9.87483245e-01,  1.01044592e-01],\n",
       "       [ 1.53964975e-01,  1.01319832e+00],\n",
       "       [ 1.05858256e+00, -5.93402519e-01],\n",
       "       [ 1.97834556e+00,  8.60038698e-02],\n",
       "       [ 5.64102869e-01, -4.36058965e-01],\n",
       "       [-2.37493320e-02,  1.00856184e+00],\n",
       "       [-5.35625551e-03,  1.47203879e-01],\n",
       "       [-9.42781423e-01,  4.28932329e-02],\n",
       "       [ 1.58076309e+00, -3.57876102e-01],\n",
       "       [ 1.48729531e-01,  1.12406541e-01],\n",
       "       [ 6.29856834e-01,  6.64970026e-01],\n",
       "       [ 9.73741351e-01,  2.93136861e-01],\n",
       "       [ 6.21931794e-01,  8.76251701e-01],\n",
       "       [ 7.16095126e-01,  6.50658455e-01],\n",
       "       [ 4.95397335e-01,  8.34109782e-01],\n",
       "       [ 1.63507414e+00, -1.93640898e-01],\n",
       "       [ 9.39327586e-01,  5.49193155e-01],\n",
       "       [-7.02603152e-01,  7.11243303e-01],\n",
       "       [ 1.57895616e+00, -2.46854147e-01],\n",
       "       [-8.60243926e-01,  4.82453441e-01],\n",
       "       [ 1.96013416e-01,  9.65367181e-01],\n",
       "       [-6.88978962e-01,  6.82259107e-01],\n",
       "       [ 8.63270212e-02,  8.25279133e-02],\n",
       "       [ 1.30867374e+00, -4.12829733e-01],\n",
       "       [-2.80980058e-01,  8.90032626e-01],\n",
       "       [ 3.90315962e-01,  8.44195161e-01],\n",
       "       [-1.01238380e+00,  3.16694022e-01],\n",
       "       [ 1.88767659e-01, -2.25730970e-01],\n",
       "       [-4.23065928e-01,  8.44359095e-01],\n",
       "       [ 2.30863628e-01, -5.38191260e-03],\n",
       "       [ 8.23153642e-01,  6.38907309e-01],\n",
       "       [ 2.02153850e+00,  3.55368581e-01],\n",
       "       [ 4.22720017e-01, -4.05969894e-01],\n",
       "       [ 1.94612164e+00,  3.46309741e-01],\n",
       "       [-8.23563555e-02,  2.57773171e-01],\n",
       "       [ 9.05162639e-01,  2.99546663e-02],\n",
       "       [ 9.90312968e-01,  6.49079351e-02],\n",
       "       [-3.94545588e-01,  9.39513323e-01],\n",
       "       [ 3.70761979e-01,  8.91148754e-01],\n",
       "       [-8.65625258e-01,  6.47559713e-01],\n",
       "       [ 1.96289637e-02,  4.59825674e-01],\n",
       "       [ 1.50193647e-01, -1.03619463e-01],\n",
       "       [ 1.95031761e+00,  4.50109109e-01],\n",
       "       [-7.11828602e-01,  8.38215329e-01],\n",
       "       [-5.88138020e-01,  7.91217871e-01],\n",
       "       [ 6.34356363e-01, -4.92699529e-01],\n",
       "       [ 1.17655385e+00, -4.82003919e-01],\n",
       "       [-8.23041847e-01,  5.32075432e-01],\n",
       "       [ 5.36377240e-01,  8.24758720e-01],\n",
       "       [ 1.91932769e-02,  1.03212374e+00],\n",
       "       [ 4.47136711e-01, -2.98474265e-01],\n",
       "       [ 6.61329477e-04,  1.62173993e-01],\n",
       "       [ 1.03139656e+00,  2.52724712e-01],\n",
       "       [ 2.00901794e+00,  3.72972507e-01],\n",
       "       [ 1.34371500e+00, -4.95306035e-01],\n",
       "       [ 8.32692245e-01,  6.13191507e-01],\n",
       "       [ 2.40499915e-01, -1.83473915e-01],\n",
       "       [ 1.01199217e+00,  1.96744802e-01],\n",
       "       [-9.82739628e-01,  6.03130719e-02],\n",
       "       [ 7.68774066e-01,  7.54845484e-01],\n",
       "       [ 8.14262083e-02,  1.04801875e-01],\n",
       "       [ 7.36970991e-01, -5.06578512e-01],\n",
       "       [ 1.13245960e-02,  1.29749761e-01],\n",
       "       [ 1.66586647e-02,  9.87104892e-01],\n",
       "       [-1.41985580e-01,  2.35934315e-01],\n",
       "       [-2.30085262e-02,  4.68708154e-01],\n",
       "       [ 1.80680888e+00,  7.66701743e-02],\n",
       "       [ 1.51023383e+00, -4.17300059e-01],\n",
       "       [-1.43817366e-01,  1.00579053e+00],\n",
       "       [ 1.13801188e+00, -4.51854564e-01],\n",
       "       [-4.79456251e-02,  1.01073406e+00],\n",
       "       [ 4.81561777e-01,  1.00042718e+00],\n",
       "       [ 4.83595738e-01, -3.71334091e-01],\n",
       "       [ 4.27502468e-01,  9.46709431e-01],\n",
       "       [-1.01284116e+00,  5.20731788e-02],\n",
       "       [ 3.36537239e-01, -1.39992367e-01],\n",
       "       [ 8.25238299e-01,  6.21276364e-01],\n",
       "       [ 1.59430507e+00, -2.91458161e-01],\n",
       "       [ 8.22673634e-01, -4.34573563e-01],\n",
       "       [-4.44217241e-01,  8.17780564e-01],\n",
       "       [ 5.74547421e-01,  7.31845529e-01],\n",
       "       [ 1.64606277e+00, -4.03736997e-01],\n",
       "       [ 4.51539239e-01,  8.88005222e-01],\n",
       "       [-6.96781502e-01,  6.43360506e-01],\n",
       "       [ 1.12578888e+00, -5.08878851e-01],\n",
       "       [ 4.11282995e-01, -2.90022518e-01],\n",
       "       [ 3.94713405e-01,  9.11565376e-01],\n",
       "       [ 1.00491510e-01,  6.69636771e-02],\n",
       "       [ 8.61868415e-01, -4.95825373e-01],\n",
       "       [ 1.08125924e+00,  1.95014954e-01],\n",
       "       [-8.47058335e-01,  4.48639639e-01],\n",
       "       [ 2.07315004e-01,  9.33182299e-01],\n",
       "       [-1.07918504e-02,  2.85020993e-01],\n",
       "       [ 1.94685691e+00, -3.88250939e-02],\n",
       "       [ 1.09012513e+00, -4.86385061e-01],\n",
       "       [ 1.91757921e+00,  8.42727807e-02],\n",
       "       [ 3.63422548e-01,  9.49699645e-01],\n",
       "       [ 4.67168160e-01, -3.59780609e-01],\n",
       "       [-3.51357680e-01,  9.10428529e-01],\n",
       "       [ 6.71383431e-01,  7.19532528e-01],\n",
       "       [ 1.48658799e+00, -3.53806780e-01],\n",
       "       [ 9.25826602e-01,  9.34651868e-02],\n",
       "       [ 6.20327446e-01, -4.43396303e-01],\n",
       "       [-9.24756059e-01,  2.82753449e-01],\n",
       "       [-7.48410140e-01,  7.52348059e-01],\n",
       "       [-5.24784978e-01,  7.56237025e-01],\n",
       "       [ 1.85793068e+00, -1.77488836e-01],\n",
       "       [ 1.99043825e+00, -3.84966266e-02],\n",
       "       [-6.11864010e-01,  8.57363102e-01],\n",
       "       [ 1.05350164e+00,  3.00605340e-01],\n",
       "       [ 8.70095557e-01,  2.66644712e-01],\n",
       "       [ 8.72329779e-02,  1.03910029e+00],\n",
       "       [ 1.65081111e+00, -3.40657824e-01],\n",
       "       [ 3.63605836e-02,  3.38859653e-01],\n",
       "       [ 8.98360843e-01,  3.03611471e-01],\n",
       "       [ 5.32578420e-01, -3.54511798e-01],\n",
       "       [-1.60894304e-01,  9.64351737e-01],\n",
       "       [ 1.77033059e+00, -1.28793935e-01],\n",
       "       [-6.14242259e-02,  4.04786927e-01],\n",
       "       [ 1.39596937e+00, -3.83944461e-01],\n",
       "       [ 1.91838913e+00, -3.73585050e-03],\n",
       "       [ 6.70163023e-02,  1.01297684e+00],\n",
       "       [ 1.90624888e-01,  9.86455339e-01],\n",
       "       [-8.70460181e-01,  4.18048901e-01],\n",
       "       [ 3.43459618e-01,  8.69895649e-01],\n",
       "       [ 1.93067862e+00,  1.42407452e-01],\n",
       "       [ 7.76412421e-01, -3.47049763e-01],\n",
       "       [ 1.53862659e+00, -4.12402904e-01],\n",
       "       [ 1.17014308e+00, -5.28937231e-01],\n",
       "       [ 1.98645256e+00,  4.32043556e-01],\n",
       "       [ 1.50787776e+00, -3.42156486e-01],\n",
       "       [ 1.79295620e+00, -1.58598687e-01],\n",
       "       [ 5.93010896e-01, -4.07264923e-01],\n",
       "       [ 1.30133494e-01,  1.01973391e+00],\n",
       "       [ 3.85447617e-01,  9.69650467e-01],\n",
       "       [-6.34227601e-01,  8.13711246e-01],\n",
       "       [ 8.94441988e-01,  4.42739571e-01],\n",
       "       [ 1.12636377e-01,  1.02239287e+00],\n",
       "       [ 1.47982048e+00, -3.77712802e-01],\n",
       "       [ 4.56676861e-01, -2.94934321e-01],\n",
       "       [ 1.99682455e+00,  3.63866999e-01],\n",
       "       [ 8.83682414e-01, -4.24459839e-01],\n",
       "       [ 1.00812283e+00, -4.45022320e-01],\n",
       "       [ 3.94722661e-02,  2.81852028e-01],\n",
       "       [ 4.77423984e-01,  8.77652359e-01],\n",
       "       [ 3.71769184e-01, -2.68835969e-01],\n",
       "       [ 1.89365819e+00,  1.78324996e-01],\n",
       "       [ 9.99041868e-01,  7.80524751e-02],\n",
       "       [ 2.74631578e-01,  1.04722866e+00],\n",
       "       [ 2.27740448e-01, -3.52295626e-02],\n",
       "       [-9.59341307e-03,  3.52395343e-01],\n",
       "       [ 2.06636314e-01, -2.00588291e-02],\n",
       "       [-8.82085737e-01,  5.20322240e-01],\n",
       "       [-9.18268409e-01,  6.25667483e-01],\n",
       "       [-8.66670027e-01,  1.54616615e-01],\n",
       "       [-4.33154940e-01,  8.15140294e-01],\n",
       "       [ 1.24230304e+00, -4.47929912e-01],\n",
       "       [-2.32841195e-01,  1.05410512e+00],\n",
       "       [ 1.66784697e+00, -1.96635930e-01],\n",
       "       [ 1.49140344e+00, -3.68984892e-01],\n",
       "       [-1.08108588e+00,  4.56799604e-02],\n",
       "       [ 2.03809595e+00,  5.10632788e-01],\n",
       "       [ 9.17739068e-01,  4.38476262e-01],\n",
       "       [ 9.81556463e-01, -4.89448565e-01],\n",
       "       [-2.56180461e-01,  1.03920861e+00],\n",
       "       [-9.29175484e-01,  4.15624689e-01],\n",
       "       [ 9.58694103e-01,  3.27840843e-01],\n",
       "       [-7.50714139e-01,  6.69824996e-01],\n",
       "       [ 8.25589778e-01, -5.47465517e-01],\n",
       "       [-7.78786036e-01,  4.94444046e-01]])"
      ]
     },
     "execution_count": 172,
     "metadata": {},
     "output_type": "execute_result"
    }
   ],
   "source": [
    "x"
   ]
  },
  {
   "cell_type": "code",
   "execution_count": 173,
   "metadata": {},
   "outputs": [
    {
     "data": {
      "text/plain": [
       "array([1, 0, 0, 0, 0, 1, 1, 1, 0, 0, 1, 1, 1, 1, 0, 1, 1, 0, 1, 0, 1, 0,\n",
       "       0, 0, 1, 0, 0, 0, 0, 0, 1, 0, 1, 1, 0, 0, 0, 1, 1, 1, 0, 0, 0, 1,\n",
       "       1, 0, 1, 0, 1, 0, 1, 1, 1, 0, 1, 0, 1, 1, 1, 1, 1, 1, 0, 0, 1, 1,\n",
       "       1, 0, 1, 1, 0, 1, 0, 0, 1, 0, 0, 1, 0, 0, 0, 0, 1, 1, 1, 0, 1, 0,\n",
       "       1, 1, 0, 0, 0, 0, 0, 1, 0, 0, 1, 0, 0, 0, 1, 1, 0, 0, 0, 1, 0, 1,\n",
       "       0, 1, 1, 1, 1, 0, 0, 0, 0, 0, 1, 1, 1, 0, 0, 1, 1, 0, 0, 0, 1, 1,\n",
       "       0, 1, 1, 0, 1, 0, 0, 0, 1, 1, 1, 0, 1, 1, 1, 1, 0, 1, 0, 0, 1, 0,\n",
       "       0, 1, 0, 1, 1, 0, 0, 1, 0, 0, 1, 1, 0, 1, 1, 0, 0, 0, 1, 1, 1, 1,\n",
       "       0, 1, 0, 0, 1, 0, 1, 0, 0, 0, 1, 1, 0, 0, 0, 0, 1, 1, 0, 1, 0, 1,\n",
       "       1, 1, 1, 0, 0, 0, 0, 1, 1, 1, 1, 1, 1, 1, 1, 0, 0, 0, 0, 0, 1, 1,\n",
       "       1, 1, 1, 1, 0, 1, 1, 0, 0, 1, 1, 1, 0, 0, 0, 0, 1, 0, 1, 1, 0, 1,\n",
       "       0, 1, 0, 0, 0, 0, 1, 0], dtype=int64)"
      ]
     },
     "execution_count": 173,
     "metadata": {},
     "output_type": "execute_result"
    }
   ],
   "source": [
    "y"
   ]
  },
  {
   "cell_type": "code",
   "execution_count": 174,
   "metadata": {},
   "outputs": [
    {
     "data": {
      "text/plain": [
       "<matplotlib.collections.PathCollection at 0x1bf86b403d0>"
      ]
     },
     "execution_count": 174,
     "metadata": {},
     "output_type": "execute_result"
    },
    {
     "data": {
      "image/png": "[encoded data removed]",
      "text/plain": [
       "<Figure size 640x480 with 1 Axes>"
      ]
     },
     "metadata": {},
     "output_type": "display_data"
    }
   ],
   "source": [
    "plt.scatter(x[:,0],x[:,1],c=y)"
   ]
  },
  {
   "cell_type": "code",
   "execution_count": 175,
   "metadata": {},
   "outputs": [],
   "source": [
    "model = Sequential()"
   ]
  },
  {
   "cell_type": "code",
   "execution_count": 176,
   "metadata": {},
   "outputs": [],
   "source": [
    "model.add(Dense(10,activation='sigmoid',input_dim=2))\n",
    "model.add(Dense(10,activation='sigmoid'))\n",
    "model.add(Dense(10,activation='sigmoid'))\n",
    "model.add(Dense(10,activation='sigmoid'))\n",
    "model.add(Dense(10,activation='sigmoid'))\n",
    "model.add(Dense(10,activation='sigmoid'))\n",
    "model.add(Dense(10,activation='sigmoid'))\n",
    "model.add(Dense(10,activation='sigmoid'))\n",
    "model.add(Dense(10,activation='sigmoid'))\n",
    "model.add(Dense(10,activation='sigmoid'))\n",
    "model.add(Dense(10,activation='sigmoid'))\n",
    "model.add(Dense(10,activation='sigmoid'))\n",
    "model.add(Dense(1,activation='sigmoid'))\n"
   ]
  },
  {
   "cell_type": "code",
   "execution_count": 177,
   "metadata": {},
   "outputs": [
    {
     "data": {
      "text/html": [
       "<pre style=\"white-space:pre;overflow-x:auto;line-height:normal;font-family:Menlo,'DejaVu Sans Mono',consolas,'Courier New',monospace\"><span style=\"font-weight: bold\">Model: \"sequential_6\"</span>\n",
       "</pre>\n"
      ],
      "text/plain": [
       "\u001b[1mModel: \"sequential_6\"\u001b[0m\n"
      ]
     },
     "metadata": {},
     "output_type": "display_data"
    },
    {
     "data": {
      "text/html": [
       "<pre style=\"white-space:pre;overflow-x:auto;line-height:normal;font-family:Menlo,'DejaVu Sans Mono',consolas,'Courier New',monospace\">┏━━━━━━━━━━━━━━━━━━━━━━━━━━━━━━━━━┳━━━━━━━━━━━━━━━━━━━━━━━━┳━━━━━━━━━━━━━━━┓\n",
       "┃<span style=\"font-weight: bold\"> Layer (type)                    </span>┃<span style=\"font-weight: bold\"> Output Shape           </span>┃<span style=\"font-weight: bold\">       Param # </span>┃\n",
       "┡━━━━━━━━━━━━━━━━━━━━━━━━━━━━━━━━━╇━━━━━━━━━━━━━━━━━━━━━━━━╇━━━━━━━━━━━━━━━┩\n",
       "│ dense_86 (<span style=\"color: #0087ff; text-decoration-color: #0087ff\">Dense</span>)                │ (<span style=\"color: #00d7ff; text-decoration-color: #00d7ff\">None</span>, <span style=\"color: #00af00; text-decoration-color: #00af00\">10</span>)             │            <span style=\"color: #00af00; text-decoration-color: #00af00\">30</span> │\n",
       "├─────────────────────────────────┼────────────────────────┼───────────────┤\n",
       "│ dense_87 (<span style=\"color: #0087ff; text-decoration-color: #0087ff\">Dense</span>)                │ (<span style=\"color: #00d7ff; text-decoration-color: #00d7ff\">None</span>, <span style=\"color: #00af00; text-decoration-color: #00af00\">10</span>)             │           <span style=\"color: #00af00; text-decoration-color: #00af00\">110</span> │\n",
       "├─────────────────────────────────┼────────────────────────┼───────────────┤\n",
       "│ dense_88 (<span style=\"color: #0087ff; text-decoration-color: #0087ff\">Dense</span>)                │ (<span style=\"color: #00d7ff; text-decoration-color: #00d7ff\">None</span>, <span style=\"color: #00af00; text-decoration-color: #00af00\">10</span>)             │           <span style=\"color: #00af00; text-decoration-color: #00af00\">110</span> │\n",
       "├─────────────────────────────────┼────────────────────────┼───────────────┤\n",
       "│ dense_89 (<span style=\"color: #0087ff; text-decoration-color: #0087ff\">Dense</span>)                │ (<span style=\"color: #00d7ff; text-decoration-color: #00d7ff\">None</span>, <span style=\"color: #00af00; text-decoration-color: #00af00\">10</span>)             │           <span style=\"color: #00af00; text-decoration-color: #00af00\">110</span> │\n",
       "├─────────────────────────────────┼────────────────────────┼───────────────┤\n",
       "│ dense_90 (<span style=\"color: #0087ff; text-decoration-color: #0087ff\">Dense</span>)                │ (<span style=\"color: #00d7ff; text-decoration-color: #00d7ff\">None</span>, <span style=\"color: #00af00; text-decoration-color: #00af00\">10</span>)             │           <span style=\"color: #00af00; text-decoration-color: #00af00\">110</span> │\n",
       "├─────────────────────────────────┼────────────────────────┼───────────────┤\n",
       "│ dense_91 (<span style=\"color: #0087ff; text-decoration-color: #0087ff\">Dense</span>)                │ (<span style=\"color: #00d7ff; text-decoration-color: #00d7ff\">None</span>, <span style=\"color: #00af00; text-decoration-color: #00af00\">10</span>)             │           <span style=\"color: #00af00; text-decoration-color: #00af00\">110</span> │\n",
       "├─────────────────────────────────┼────────────────────────┼───────────────┤\n",
       "│ dense_92 (<span style=\"color: #0087ff; text-decoration-color: #0087ff\">Dense</span>)                │ (<span style=\"color: #00d7ff; text-decoration-color: #00d7ff\">None</span>, <span style=\"color: #00af00; text-decoration-color: #00af00\">10</span>)             │           <span style=\"color: #00af00; text-decoration-color: #00af00\">110</span> │\n",
       "├─────────────────────────────────┼────────────────────────┼───────────────┤\n",
       "│ dense_93 (<span style=\"color: #0087ff; text-decoration-color: #0087ff\">Dense</span>)                │ (<span style=\"color: #00d7ff; text-decoration-color: #00d7ff\">None</span>, <span style=\"color: #00af00; text-decoration-color: #00af00\">10</span>)             │           <span style=\"color: #00af00; text-decoration-color: #00af00\">110</span> │\n",
       "├─────────────────────────────────┼────────────────────────┼───────────────┤\n",
       "│ dense_94 (<span style=\"color: #0087ff; text-decoration-color: #0087ff\">Dense</span>)                │ (<span style=\"color: #00d7ff; text-decoration-color: #00d7ff\">None</span>, <span style=\"color: #00af00; text-decoration-color: #00af00\">10</span>)             │           <span style=\"color: #00af00; text-decoration-color: #00af00\">110</span> │\n",
       "├─────────────────────────────────┼────────────────────────┼───────────────┤\n",
       "│ dense_95 (<span style=\"color: #0087ff; text-decoration-color: #0087ff\">Dense</span>)                │ (<span style=\"color: #00d7ff; text-decoration-color: #00d7ff\">None</span>, <span style=\"color: #00af00; text-decoration-color: #00af00\">10</span>)             │           <span style=\"color: #00af00; text-decoration-color: #00af00\">110</span> │\n",
       "├─────────────────────────────────┼────────────────────────┼───────────────┤\n",
       "│ dense_96 (<span style=\"color: #0087ff; text-decoration-color: #0087ff\">Dense</span>)                │ (<span style=\"color: #00d7ff; text-decoration-color: #00d7ff\">None</span>, <span style=\"color: #00af00; text-decoration-color: #00af00\">10</span>)             │           <span style=\"color: #00af00; text-decoration-color: #00af00\">110</span> │\n",
       "├─────────────────────────────────┼────────────────────────┼───────────────┤\n",
       "│ dense_97 (<span style=\"color: #0087ff; text-decoration-color: #0087ff\">Dense</span>)                │ (<span style=\"color: #00d7ff; text-decoration-color: #00d7ff\">None</span>, <span style=\"color: #00af00; text-decoration-color: #00af00\">10</span>)             │           <span style=\"color: #00af00; text-decoration-color: #00af00\">110</span> │\n",
       "├─────────────────────────────────┼────────────────────────┼───────────────┤\n",
       "│ dense_98 (<span style=\"color: #0087ff; text-decoration-color: #0087ff\">Dense</span>)                │ (<span style=\"color: #00d7ff; text-decoration-color: #00d7ff\">None</span>, <span style=\"color: #00af00; text-decoration-color: #00af00\">1</span>)              │            <span style=\"color: #00af00; text-decoration-color: #00af00\">11</span> │\n",
       "└─────────────────────────────────┴────────────────────────┴───────────────┘\n",
       "</pre>\n"
      ],
      "text/plain": [
       "┏━━━━━━━━━━━━━━━━━━━━━━━━━━━━━━━━━┳━━━━━━━━━━━━━━━━━━━━━━━━┳━━━━━━━━━━━━━━━┓\n",
       "┃\u001b[1m \u001b[0m\u001b[1mLayer (type)                   \u001b[0m\u001b[1m \u001b[0m┃\u001b[1m \u001b[0m\u001b[1mOutput Shape          \u001b[0m\u001b[1m \u001b[0m┃\u001b[1m \u001b[0m\u001b[1m      Param #\u001b[0m\u001b[1m \u001b[0m┃\n",
       "┡━━━━━━━━━━━━━━━━━━━━━━━━━━━━━━━━━╇━━━━━━━━━━━━━━━━━━━━━━━━╇━━━━━━━━━━━━━━━┩\n",
       "│ dense_86 (\u001b[38;5;33mDense\u001b[0m)                │ (\u001b[38;5;45mNone\u001b[0m, \u001b[38;5;34m10\u001b[0m)             │            \u001b[38;5;34m30\u001b[0m │\n",
       "├─────────────────────────────────┼────────────────────────┼───────────────┤\n",
       "│ dense_87 (\u001b[38;5;33mDense\u001b[0m)                │ (\u001b[38;5;45mNone\u001b[0m, \u001b[38;5;34m10\u001b[0m)             │           \u001b[38;5;34m110\u001b[0m │\n",
       "├─────────────────────────────────┼────────────────────────┼───────────────┤\n",
       "│ dense_88 (\u001b[38;5;33mDense\u001b[0m)                │ (\u001b[38;5;45mNone\u001b[0m, \u001b[38;5;34m10\u001b[0m)             │           \u001b[38;5;34m110\u001b[0m │\n",
       "├─────────────────────────────────┼────────────────────────┼───────────────┤\n",
       "│ dense_89 (\u001b[38;5;33mDense\u001b[0m)                │ (\u001b[38;5;45mNone\u001b[0m, \u001b[38;5;34m10\u001b[0m)             │           \u001b[38;5;34m110\u001b[0m │\n",
       "├─────────────────────────────────┼────────────────────────┼───────────────┤\n",
       "│ dense_90 (\u001b[38;5;33mDense\u001b[0m)                │ (\u001b[38;5;45mNone\u001b[0m, \u001b[38;5;34m10\u001b[0m)             │           \u001b[38;5;34m110\u001b[0m │\n",
       "├─────────────────────────────────┼────────────────────────┼───────────────┤\n",
       "│ dense_91 (\u001b[38;5;33mDense\u001b[0m)                │ (\u001b[38;5;45mNone\u001b[0m, \u001b[38;5;34m10\u001b[0m)             │           \u001b[38;5;34m110\u001b[0m │\n",
       "├─────────────────────────────────┼────────────────────────┼───────────────┤\n",
       "│ dense_92 (\u001b[38;5;33mDense\u001b[0m)                │ (\u001b[38;5;45mNone\u001b[0m, \u001b[38;5;34m10\u001b[0m)             │           \u001b[38;5;34m110\u001b[0m │\n",
       "├─────────────────────────────────┼────────────────────────┼───────────────┤\n",
       "│ dense_93 (\u001b[38;5;33mDense\u001b[0m)                │ (\u001b[38;5;45mNone\u001b[0m, \u001b[38;5;34m10\u001b[0m)             │           \u001b[38;5;34m110\u001b[0m │\n",
       "├─────────────────────────────────┼────────────────────────┼───────────────┤\n",
       "│ dense_94 (\u001b[38;5;33mDense\u001b[0m)                │ (\u001b[38;5;45mNone\u001b[0m, \u001b[38;5;34m10\u001b[0m)             │           \u001b[38;5;34m110\u001b[0m │\n",
       "├─────────────────────────────────┼────────────────────────┼───────────────┤\n",
       "│ dense_95 (\u001b[38;5;33mDense\u001b[0m)                │ (\u001b[38;5;45mNone\u001b[0m, \u001b[38;5;34m10\u001b[0m)             │           \u001b[38;5;34m110\u001b[0m │\n",
       "├─────────────────────────────────┼────────────────────────┼───────────────┤\n",
       "│ dense_96 (\u001b[38;5;33mDense\u001b[0m)                │ (\u001b[38;5;45mNone\u001b[0m, \u001b[38;5;34m10\u001b[0m)             │           \u001b[38;5;34m110\u001b[0m │\n",
       "├─────────────────────────────────┼────────────────────────┼───────────────┤\n",
       "│ dense_97 (\u001b[38;5;33mDense\u001b[0m)                │ (\u001b[38;5;45mNone\u001b[0m, \u001b[38;5;34m10\u001b[0m)             │           \u001b[38;5;34m110\u001b[0m │\n",
       "├─────────────────────────────────┼────────────────────────┼───────────────┤\n",
       "│ dense_98 (\u001b[38;5;33mDense\u001b[0m)                │ (\u001b[38;5;45mNone\u001b[0m, \u001b[38;5;34m1\u001b[0m)              │            \u001b[38;5;34m11\u001b[0m │\n",
       "└─────────────────────────────────┴────────────────────────┴───────────────┘\n"
      ]
     },
     "metadata": {},
     "output_type": "display_data"
    },
    {
     "data": {
      "text/html": [
       "<pre style=\"white-space:pre;overflow-x:auto;line-height:normal;font-family:Menlo,'DejaVu Sans Mono',consolas,'Courier New',monospace\"><span style=\"font-weight: bold\"> Total params: </span><span style=\"color: #00af00; text-decoration-color: #00af00\">1,251</span> (4.89 KB)\n",
       "</pre>\n"
      ],
      "text/plain": [
       "\u001b[1m Total params: \u001b[0m\u001b[38;5;34m1,251\u001b[0m (4.89 KB)\n"
      ]
     },
     "metadata": {},
     "output_type": "display_data"
    },
    {
     "data": {
      "text/html": [
       "<pre style=\"white-space:pre;overflow-x:auto;line-height:normal;font-family:Menlo,'DejaVu Sans Mono',consolas,'Courier New',monospace\"><span style=\"font-weight: bold\"> Trainable params: </span><span style=\"color: #00af00; text-decoration-color: #00af00\">1,251</span> (4.89 KB)\n",
       "</pre>\n"
      ],
      "text/plain": [
       "\u001b[1m Trainable params: \u001b[0m\u001b[38;5;34m1,251\u001b[0m (4.89 KB)\n"
      ]
     },
     "metadata": {},
     "output_type": "display_data"
    },
    {
     "data": {
      "text/html": [
       "<pre style=\"white-space:pre;overflow-x:auto;line-height:normal;font-family:Menlo,'DejaVu Sans Mono',consolas,'Courier New',monospace\"><span style=\"font-weight: bold\"> Non-trainable params: </span><span style=\"color: #00af00; text-decoration-color: #00af00\">0</span> (0.00 B)\n",
       "</pre>\n"
      ],
      "text/plain": [
       "\u001b[1m Non-trainable params: \u001b[0m\u001b[38;5;34m0\u001b[0m (0.00 B)\n"
      ]
     },
     "metadata": {},
     "output_type": "display_data"
    }
   ],
   "source": [
    "model.summary()"
   ]
  },
  {
   "cell_type": "code",
   "execution_count": 178,
   "metadata": {},
   "outputs": [],
   "source": [
    "model.compile(loss='binary_crossentropy',optimizer='Adam',metrics=['accuracy'])"
   ]
  },
  {
   "cell_type": "code",
   "execution_count": 179,
   "metadata": {},
   "outputs": [],
   "source": [
    "old_weight = model.get_weights()[0]"
   ]
  },
  {
   "cell_type": "code",
   "execution_count": 180,
   "metadata": {},
   "outputs": [],
   "source": [
    "x_train,x_test,y_train,y_test = train_test_split(x,y,test_size=0.20,random_state=42)"
   ]
  },
  {
   "cell_type": "code",
   "execution_count": 181,
   "metadata": {},
   "outputs": [
    {
     "name": "stdout",
     "output_type": "stream",
     "text": [
      "Epoch 1/10\n",
      "\u001b[1m7/7\u001b[0m \u001b[32m━━━━━━━━━━━━━━━━━━━━\u001b[0m\u001b[37m\u001b[0m \u001b[1m4s\u001b[0m 3ms/step - accuracy: 0.5033 - loss: 0.7664\n",
      "Epoch 2/10\n",
      "\u001b[1m7/7\u001b[0m \u001b[32m━━━━━━━━━━━━━━━━━━━━\u001b[0m\u001b[37m\u001b[0m \u001b[1m0s\u001b[0m 3ms/step - accuracy: 0.5381 - loss: 0.7259 \n",
      "Epoch 3/10\n",
      "\u001b[1m7/7\u001b[0m \u001b[32m━━━━━━━━━━━━━━━━━━━━\u001b[0m\u001b[37m\u001b[0m \u001b[1m0s\u001b[0m 3ms/step - accuracy: 0.5115 - loss: 0.7334 \n",
      "Epoch 4/10\n",
      "\u001b[1m7/7\u001b[0m \u001b[32m━━━━━━━━━━━━━━━━━━━━\u001b[0m\u001b[37m\u001b[0m \u001b[1m0s\u001b[0m 3ms/step - accuracy: 0.5114 - loss: 0.7231 \n",
      "Epoch 5/10\n",
      "\u001b[1m7/7\u001b[0m \u001b[32m━━━━━━━━━━━━━━━━━━━━\u001b[0m\u001b[37m\u001b[0m \u001b[1m0s\u001b[0m 4ms/step - accuracy: 0.5449 - loss: 0.6986 \n",
      "Epoch 6/10\n",
      "\u001b[1m7/7\u001b[0m \u001b[32m━━━━━━━━━━━━━━━━━━━━\u001b[0m\u001b[37m\u001b[0m \u001b[1m0s\u001b[0m 3ms/step - accuracy: 0.5308 - loss: 0.7008 \n",
      "Epoch 7/10\n",
      "\u001b[1m7/7\u001b[0m \u001b[32m━━━━━━━━━━━━━━━━━━━━\u001b[0m\u001b[37m\u001b[0m \u001b[1m0s\u001b[0m 3ms/step - accuracy: 0.5091 - loss: 0.7048 \n",
      "Epoch 8/10\n",
      "\u001b[1m7/7\u001b[0m \u001b[32m━━━━━━━━━━━━━━━━━━━━\u001b[0m\u001b[37m\u001b[0m \u001b[1m0s\u001b[0m 3ms/step - accuracy: 0.5886 - loss: 0.6768 \n",
      "Epoch 9/10\n",
      "\u001b[1m7/7\u001b[0m \u001b[32m━━━━━━━━━━━━━━━━━━━━\u001b[0m\u001b[37m\u001b[0m \u001b[1m0s\u001b[0m 3ms/step - accuracy: 0.5145 - loss: 0.6971 \n",
      "Epoch 10/10\n",
      "\u001b[1m7/7\u001b[0m \u001b[32m━━━━━━━━━━━━━━━━━━━━\u001b[0m\u001b[37m\u001b[0m \u001b[1m0s\u001b[0m 3ms/step - accuracy: 0.5092 - loss: 0.6962 \n"
     ]
    }
   ],
   "source": [
    "history = model.fit(x_train,y_train,epochs=10)"
   ]
  },
  {
   "cell_type": "code",
   "execution_count": 182,
   "metadata": {},
   "outputs": [],
   "source": [
    "new_weight = model.get_weights()[0]"
   ]
  },
  {
   "cell_type": "code",
   "execution_count": 183,
   "metadata": {},
   "outputs": [
    {
     "data": {
      "text/plain": [
       "array([[-0.0436322 , -0.39304194,  0.51055837,  0.37615946,  0.26718253,\n",
       "        -0.20176694,  0.47829798, -0.2431027 ,  0.02909312,  0.03929098],\n",
       "       [ 0.34881696,  0.55172354, -0.07656605, -0.20559192, -0.38630772,\n",
       "         0.46290806, -0.2817158 ,  0.12177086, -0.5371134 ,  0.32279   ]],\n",
       "      dtype=float32)"
      ]
     },
     "execution_count": 183,
     "metadata": {},
     "output_type": "execute_result"
    }
   ],
   "source": [
    "new_weight"
   ]
  },
  {
   "cell_type": "code",
   "execution_count": 184,
   "metadata": {},
   "outputs": [
    {
     "data": {
      "text/plain": [
       "0.0010000000474974513"
      ]
     },
     "execution_count": 184,
     "metadata": {},
     "output_type": "execute_result"
    }
   ],
   "source": [
    "model.optimizer.get_config()['learning_rate']"
   ]
  },
  {
   "cell_type": "code",
   "execution_count": 185,
   "metadata": {},
   "outputs": [
    {
     "data": {
      "text/plain": [
       "array([[-0.0436322 , -0.39304194,  0.51055837,  0.37615946,  0.26718253,\n",
       "        -0.20176694,  0.47829798, -0.2431027 ,  0.02909312,  0.03929098],\n",
       "       [ 0.34881696,  0.55172354, -0.07656605, -0.20559192, -0.38630772,\n",
       "         0.46290806, -0.2817158 ,  0.12177086, -0.5371134 ,  0.32279   ]],\n",
       "      dtype=float32)"
      ]
     },
     "execution_count": 185,
     "metadata": {},
     "output_type": "execute_result"
    }
   ],
   "source": [
    "new_weight"
   ]
  },
  {
   "cell_type": "code",
   "execution_count": 186,
   "metadata": {},
   "outputs": [
    {
     "data": {
      "text/plain": [
       "array([[-0.04310155, -0.39302644,  0.51034266,  0.3758939 ,  0.26682782,\n",
       "        -0.20129722,  0.47833472, -0.2437531 ,  0.0298683 ,  0.03910905],\n",
       "       [ 0.348522  ,  0.5517177 , -0.07642573, -0.20542878, -0.3861007 ,\n",
       "         0.4626419 , -0.2817382 ,  0.12213868, -0.53752   ,  0.3228976 ]],\n",
       "      dtype=float32)"
      ]
     },
     "execution_count": 186,
     "metadata": {},
     "output_type": "execute_result"
    }
   ],
   "source": [
    "old_weight"
   ]
  },
  {
   "cell_type": "code",
   "execution_count": 187,
   "metadata": {},
   "outputs": [
    {
     "data": {
      "text/plain": [
       "[<matplotlib.lines.Line2D at 0x1bffb6c3550>]"
      ]
     },
     "execution_count": 187,
     "metadata": {},
     "output_type": "execute_result"
    },
    {
     "data": {
      "image/png": "[encoded data removed]",
      "text/plain": [
       "<Figure size 640x480 with 1 Axes>"
      ]
     },
     "metadata": {},
     "output_type": "display_data"
    }
   ],
   "source": [
    "plt.plot(history.history['loss'])"
   ]
  },
  {
   "cell_type": "code",
   "execution_count": null,
   "metadata": {},
   "outputs": [],
   "source": []
  },
  {
   "cell_type": "code",
   "execution_count": null,
   "metadata": {},
   "outputs": [],
   "source": []
  },
  {
   "cell_type": "code",
   "execution_count": null,
   "metadata": {},
   "outputs": [],
   "source": []
  },
  {
   "cell_type": "code",
   "execution_count": null,
   "metadata": {},
   "outputs": [],
   "source": []
  },
  {
   "cell_type": "code",
   "execution_count": null,
   "metadata": {},
   "outputs": [],
   "source": []
  }
 ],
 "metadata": {
  "kernelspec": {
   "display_name": "Python 3",
   "language": "python",
   "name": "python3"
  },
  "language_info": {
   "codemirror_mode": {
    "name": "ipython",
    "version": 3
   },
   "file_extension": ".py",
   "mimetype": "text/x-python",
   "name": "python",
   "nbconvert_exporter": "python",
   "pygments_lexer": "ipython3",
   "version": "3.11.4"
  }
 },
 "nbformat": 4,
 "nbformat_minor": 2
}
