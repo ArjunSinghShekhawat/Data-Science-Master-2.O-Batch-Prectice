{
 "cells": [
  {
   "cell_type": "code",
   "execution_count": 14,
   "metadata": {},
   "outputs": [],
   "source": [
    "import pandas as pd\n",
    "import numpy as np"
   ]
  },
  {
   "cell_type": "code",
   "execution_count": 15,
   "metadata": {},
   "outputs": [
    {
     "data": {
      "text/html": [
       "<div>\n",
       "<style scoped>\n",
       "    .dataframe tbody tr th:only-of-type {\n",
       "        vertical-align: middle;\n",
       "    }\n",
       "\n",
       "    .dataframe tbody tr th {\n",
       "        vertical-align: top;\n",
       "    }\n",
       "\n",
       "    .dataframe thead th {\n",
       "        text-align: right;\n",
       "    }\n",
       "</style>\n",
       "<table border=\"1\" class=\"dataframe\">\n",
       "  <thead>\n",
       "    <tr style=\"text-align: right;\">\n",
       "      <th></th>\n",
       "      <th>Unnamed: 0</th>\n",
       "      <th>Hindi</th>\n",
       "      <th>English</th>\n",
       "      <th>Science</th>\n",
       "      <th>Maths</th>\n",
       "      <th>History</th>\n",
       "      <th>Geograpgy</th>\n",
       "      <th>Total</th>\n",
       "      <th>Results</th>\n",
       "      <th>Div</th>\n",
       "    </tr>\n",
       "  </thead>\n",
       "  <tbody>\n",
       "    <tr>\n",
       "      <th>0</th>\n",
       "      <td>0</td>\n",
       "      <td>65</td>\n",
       "      <td>10</td>\n",
       "      <td>59</td>\n",
       "      <td>3</td>\n",
       "      <td>71</td>\n",
       "      <td>37</td>\n",
       "      <td>245</td>\n",
       "      <td>0</td>\n",
       "      <td>3</td>\n",
       "    </tr>\n",
       "    <tr>\n",
       "      <th>1</th>\n",
       "      <td>1</td>\n",
       "      <td>94</td>\n",
       "      <td>56</td>\n",
       "      <td>4</td>\n",
       "      <td>67</td>\n",
       "      <td>91</td>\n",
       "      <td>50</td>\n",
       "      <td>362</td>\n",
       "      <td>1</td>\n",
       "      <td>1</td>\n",
       "    </tr>\n",
       "    <tr>\n",
       "      <th>2</th>\n",
       "      <td>2</td>\n",
       "      <td>7</td>\n",
       "      <td>85</td>\n",
       "      <td>76</td>\n",
       "      <td>99</td>\n",
       "      <td>60</td>\n",
       "      <td>25</td>\n",
       "      <td>352</td>\n",
       "      <td>0</td>\n",
       "      <td>2</td>\n",
       "    </tr>\n",
       "    <tr>\n",
       "      <th>3</th>\n",
       "      <td>3</td>\n",
       "      <td>88</td>\n",
       "      <td>46</td>\n",
       "      <td>59</td>\n",
       "      <td>94</td>\n",
       "      <td>52</td>\n",
       "      <td>38</td>\n",
       "      <td>377</td>\n",
       "      <td>1</td>\n",
       "      <td>1</td>\n",
       "    </tr>\n",
       "    <tr>\n",
       "      <th>4</th>\n",
       "      <td>4</td>\n",
       "      <td>39</td>\n",
       "      <td>81</td>\n",
       "      <td>37</td>\n",
       "      <td>38</td>\n",
       "      <td>6</td>\n",
       "      <td>54</td>\n",
       "      <td>255</td>\n",
       "      <td>1</td>\n",
       "      <td>3</td>\n",
       "    </tr>\n",
       "  </tbody>\n",
       "</table>\n",
       "</div>"
      ],
      "text/plain": [
       "   Unnamed: 0  Hindi  English  Science  Maths  History  Geograpgy  Total  \\\n",
       "0           0     65       10       59      3       71         37    245   \n",
       "1           1     94       56        4     67       91         50    362   \n",
       "2           2      7       85       76     99       60         25    352   \n",
       "3           3     88       46       59     94       52         38    377   \n",
       "4           4     39       81       37     38        6         54    255   \n",
       "\n",
       "   Results  Div  \n",
       "0        0    3  \n",
       "1        1    1  \n",
       "2        0    2  \n",
       "3        1    1  \n",
       "4        1    3  "
      ]
     },
     "execution_count": 15,
     "metadata": {},
     "output_type": "execute_result"
    }
   ],
   "source": [
    "df = pd.read_csv('E:\\Data Science 2.0 Course Prectice\\\\results.csv')\n",
    "df.head()\n"
   ]
  },
  {
   "cell_type": "code",
   "execution_count": 16,
   "metadata": {},
   "outputs": [],
   "source": [
    "df.drop(['Unnamed: 0','Hindi','English','Science','Maths','History','Geograpgy'],axis=1,inplace=True)"
   ]
  },
  {
   "cell_type": "code",
   "execution_count": 17,
   "metadata": {},
   "outputs": [
    {
     "data": {
      "text/html": [
       "<div>\n",
       "<style scoped>\n",
       "    .dataframe tbody tr th:only-of-type {\n",
       "        vertical-align: middle;\n",
       "    }\n",
       "\n",
       "    .dataframe tbody tr th {\n",
       "        vertical-align: top;\n",
       "    }\n",
       "\n",
       "    .dataframe thead th {\n",
       "        text-align: right;\n",
       "    }\n",
       "</style>\n",
       "<table border=\"1\" class=\"dataframe\">\n",
       "  <thead>\n",
       "    <tr style=\"text-align: right;\">\n",
       "      <th></th>\n",
       "      <th>Total</th>\n",
       "      <th>Results</th>\n",
       "      <th>Div</th>\n",
       "    </tr>\n",
       "  </thead>\n",
       "  <tbody>\n",
       "    <tr>\n",
       "      <th>0</th>\n",
       "      <td>245</td>\n",
       "      <td>0</td>\n",
       "      <td>3</td>\n",
       "    </tr>\n",
       "    <tr>\n",
       "      <th>1</th>\n",
       "      <td>362</td>\n",
       "      <td>1</td>\n",
       "      <td>1</td>\n",
       "    </tr>\n",
       "    <tr>\n",
       "      <th>2</th>\n",
       "      <td>352</td>\n",
       "      <td>0</td>\n",
       "      <td>2</td>\n",
       "    </tr>\n",
       "    <tr>\n",
       "      <th>3</th>\n",
       "      <td>377</td>\n",
       "      <td>1</td>\n",
       "      <td>1</td>\n",
       "    </tr>\n",
       "    <tr>\n",
       "      <th>4</th>\n",
       "      <td>255</td>\n",
       "      <td>1</td>\n",
       "      <td>3</td>\n",
       "    </tr>\n",
       "  </tbody>\n",
       "</table>\n",
       "</div>"
      ],
      "text/plain": [
       "   Total  Results  Div\n",
       "0    245        0    3\n",
       "1    362        1    1\n",
       "2    352        0    2\n",
       "3    377        1    1\n",
       "4    255        1    3"
      ]
     },
     "execution_count": 17,
     "metadata": {},
     "output_type": "execute_result"
    }
   ],
   "source": [
    "df.head()"
   ]
  },
  {
   "cell_type": "code",
   "execution_count": 18,
   "metadata": {},
   "outputs": [
    {
     "data": {
      "text/plain": [
       "<Axes: xlabel='Total', ylabel='Div'>"
      ]
     },
     "execution_count": 18,
     "metadata": {},
     "output_type": "execute_result"
    },
    {
     "data": {
      "image/png": "[encoded data removed]",
      "text/plain": [
       "<Figure size 640x480 with 1 Axes>"
      ]
     },
     "metadata": {},
     "output_type": "display_data"
    }
   ],
   "source": [
    "import seaborn as sns\n",
    "sns.scatterplot(data=df,x=df['Total'],y=df['Div'],hue=df['Results'])"
   ]
  },
  {
   "cell_type": "code",
   "execution_count": 19,
   "metadata": {},
   "outputs": [],
   "source": [
    "from sklearn.linear_model import Perceptron"
   ]
  },
  {
   "cell_type": "code",
   "execution_count": 20,
   "metadata": {},
   "outputs": [],
   "source": [
    "p = Perceptron()"
   ]
  },
  {
   "cell_type": "code",
   "execution_count": 22,
   "metadata": {},
   "outputs": [],
   "source": [
    "x = df[['Total','Div']]\n",
    "y = df['Results']"
   ]
  },
  {
   "cell_type": "code",
   "execution_count": 23,
   "metadata": {},
   "outputs": [
    {
     "data": {
      "text/html": [
       "<style>#sk-container-id-1 {color: black;}#sk-container-id-1 pre{padding: 0;}#sk-container-id-1 div.sk-toggleable {background-color: white;}#sk-container-id-1 label.sk-toggleable__label {cursor: pointer;display: block;width: 100%;margin-bottom: 0;padding: 0.3em;box-sizing: border-box;text-align: center;}#sk-container-id-1 label.sk-toggleable__label-arrow:before {content: \"▸\";float: left;margin-right: 0.25em;color: #696969;}#sk-container-id-1 label.sk-toggleable__label-arrow:hover:before {color: black;}#sk-container-id-1 div.sk-estimator:hover label.sk-toggleable__label-arrow:before {color: black;}#sk-container-id-1 div.sk-toggleable__content {max-height: 0;max-width: 0;overflow: hidden;text-align: left;background-color: #f0f8ff;}#sk-container-id-1 div.sk-toggleable__content pre {margin: 0.2em;color: black;border-radius: 0.25em;background-color: #f0f8ff;}#sk-container-id-1 input.sk-toggleable__control:checked~div.sk-toggleable__content {max-height: 200px;max-width: 100%;overflow: auto;}#sk-container-id-1 input.sk-toggleable__control:checked~label.sk-toggleable__label-arrow:before {content: \"▾\";}#sk-container-id-1 div.sk-estimator input.sk-toggleable__control:checked~label.sk-toggleable__label {background-color: #d4ebff;}#sk-container-id-1 div.sk-label input.sk-toggleable__control:checked~label.sk-toggleable__label {background-color: #d4ebff;}#sk-container-id-1 input.sk-hidden--visually {border: 0;clip: rect(1px 1px 1px 1px);clip: rect(1px, 1px, 1px, 1px);height: 1px;margin: -1px;overflow: hidden;padding: 0;position: absolute;width: 1px;}#sk-container-id-1 div.sk-estimator {font-family: monospace;background-color: #f0f8ff;border: 1px dotted black;border-radius: 0.25em;box-sizing: border-box;margin-bottom: 0.5em;}#sk-container-id-1 div.sk-estimator:hover {background-color: #d4ebff;}#sk-container-id-1 div.sk-parallel-item::after {content: \"\";width: 100%;border-bottom: 1px solid gray;flex-grow: 1;}#sk-container-id-1 div.sk-label:hover label.sk-toggleable__label {background-color: #d4ebff;}#sk-container-id-1 div.sk-serial::before {content: \"\";position: absolute;border-left: 1px solid gray;box-sizing: border-box;top: 0;bottom: 0;left: 50%;z-index: 0;}#sk-container-id-1 div.sk-serial {display: flex;flex-direction: column;align-items: center;background-color: white;padding-right: 0.2em;padding-left: 0.2em;position: relative;}#sk-container-id-1 div.sk-item {position: relative;z-index: 1;}#sk-container-id-1 div.sk-parallel {display: flex;align-items: stretch;justify-content: center;background-color: white;position: relative;}#sk-container-id-1 div.sk-item::before, #sk-container-id-1 div.sk-parallel-item::before {content: \"\";position: absolute;border-left: 1px solid gray;box-sizing: border-box;top: 0;bottom: 0;left: 50%;z-index: -1;}#sk-container-id-1 div.sk-parallel-item {display: flex;flex-direction: column;z-index: 1;position: relative;background-color: white;}#sk-container-id-1 div.sk-parallel-item:first-child::after {align-self: flex-end;width: 50%;}#sk-container-id-1 div.sk-parallel-item:last-child::after {align-self: flex-start;width: 50%;}#sk-container-id-1 div.sk-parallel-item:only-child::after {width: 0;}#sk-container-id-1 div.sk-dashed-wrapped {border: 1px dashed gray;margin: 0 0.4em 0.5em 0.4em;box-sizing: border-box;padding-bottom: 0.4em;background-color: white;}#sk-container-id-1 div.sk-label label {font-family: monospace;font-weight: bold;display: inline-block;line-height: 1.2em;}#sk-container-id-1 div.sk-label-container {text-align: center;}#sk-container-id-1 div.sk-container {/* jupyter's `normalize.less` sets `[hidden] { display: none; }` but bootstrap.min.css set `[hidden] { display: none !important; }` so we also need the `!important` here to be able to override the default hidden behavior on the sphinx rendered scikit-learn.org. See: https://github.com/scikit-learn/scikit-learn/issues/21755 */display: inline-block !important;position: relative;}#sk-container-id-1 div.sk-text-repr-fallback {display: none;}</style><div id=\"sk-container-id-1\" class=\"sk-top-container\"><div class=\"sk-text-repr-fallback\"><pre>Perceptron()</pre><b>In a Jupyter environment, please rerun this cell to show the HTML representation or trust the notebook. <br />On GitHub, the HTML representation is unable to render, please try loading this page with nbviewer.org.</b></div><div class=\"sk-container\" hidden><div class=\"sk-item\"><div class=\"sk-estimator sk-toggleable\"><input class=\"sk-toggleable__control sk-hidden--visually\" id=\"sk-estimator-id-1\" type=\"checkbox\" checked><label for=\"sk-estimator-id-1\" class=\"sk-toggleable__label sk-toggleable__label-arrow\">Perceptron</label><div class=\"sk-toggleable__content\"><pre>Perceptron()</pre></div></div></div></div></div>"
      ],
      "text/plain": [
       "Perceptron()"
      ]
     },
     "execution_count": 23,
     "metadata": {},
     "output_type": "execute_result"
    }
   ],
   "source": [
    "p.fit(x,y)"
   ]
  },
  {
   "cell_type": "code",
   "execution_count": 24,
   "metadata": {},
   "outputs": [
    {
     "data": {
      "text/plain": [
       "array([-987.])"
      ]
     },
     "execution_count": 24,
     "metadata": {},
     "output_type": "execute_result"
    }
   ],
   "source": [
    "p.intercept_"
   ]
  },
  {
   "cell_type": "code",
   "execution_count": 25,
   "metadata": {},
   "outputs": [
    {
     "data": {
      "text/plain": [
       "array([[  -75., -3194.]])"
      ]
     },
     "execution_count": 25,
     "metadata": {},
     "output_type": "execute_result"
    }
   ],
   "source": [
    "p.coef_"
   ]
  },
  {
   "cell_type": "code",
   "execution_count": 30,
   "metadata": {},
   "outputs": [
    {
     "name": "stderr",
     "output_type": "stream",
     "text": [
      "c:\\Users\\shekh\\AppData\\Local\\Programs\\Python\\Python311\\Lib\\site-packages\\sklearn\\base.py:465: UserWarning: X does not have valid feature names, but Perceptron was fitted with feature names\n",
      "  warnings.warn(\n"
     ]
    },
    {
     "data": {
      "text/plain": [
       "<Axes: >"
      ]
     },
     "execution_count": 30,
     "metadata": {},
     "output_type": "execute_result"
    },
    {
     "data": {
      "image/png": "[encoded data removed]",
      "text/plain": [
       "<Figure size 640x480 with 1 Axes>"
      ]
     },
     "metadata": {},
     "output_type": "display_data"
    }
   ],
   "source": [
    "from mlxtend.plotting import plot_decision_regions\n",
    "plot_decision_regions(x.values,y.values,clf=p,legend=2)"
   ]
  },
  {
   "cell_type": "code",
   "execution_count": 27,
   "metadata": {},
   "outputs": [
    {
     "name": "stdout",
     "output_type": "stream",
     "text": [
      "Collecting mlxtend\n",
      "  Downloading mlxtend-0.23.1-py3-none-any.whl.metadata (7.3 kB)\n",
      "Requirement already satisfied: scipy>=1.2.1 in c:\\users\\shekh\\appdata\\local\\programs\\python\\python311\\lib\\site-packages (from mlxtend) (1.11.3)\n",
      "Requirement already satisfied: numpy>=1.16.2 in c:\\users\\shekh\\appdata\\local\\programs\\python\\python311\\lib\\site-packages (from mlxtend) (1.25.2)\n",
      "Requirement already satisfied: pandas>=0.24.2 in c:\\users\\shekh\\appdata\\local\\programs\\python\\python311\\lib\\site-packages (from mlxtend) (2.1.0)\n",
      "Requirement already satisfied: scikit-learn>=1.0.2 in c:\\users\\shekh\\appdata\\local\\programs\\python\\python311\\lib\\site-packages (from mlxtend) (1.3.2)\n",
      "Requirement already satisfied: matplotlib>=3.0.0 in c:\\users\\shekh\\appdata\\local\\programs\\python\\python311\\lib\\site-packages (from mlxtend) (3.7.2)\n",
      "Requirement already satisfied: joblib>=0.13.2 in c:\\users\\shekh\\appdata\\local\\programs\\python\\python311\\lib\\site-packages (from mlxtend) (1.3.2)\n",
      "Requirement already satisfied: contourpy>=1.0.1 in c:\\users\\shekh\\appdata\\local\\programs\\python\\python311\\lib\\site-packages (from matplotlib>=3.0.0->mlxtend) (1.1.0)\n",
      "Requirement already satisfied: cycler>=0.10 in c:\\users\\shekh\\appdata\\local\\programs\\python\\python311\\lib\\site-packages (from matplotlib>=3.0.0->mlxtend) (0.11.0)\n",
      "Requirement already satisfied: fonttools>=4.22.0 in c:\\users\\shekh\\appdata\\local\\programs\\python\\python311\\lib\\site-packages (from matplotlib>=3.0.0->mlxtend) (4.42.1)\n",
      "Requirement already satisfied: kiwisolver>=1.0.1 in c:\\users\\shekh\\appdata\\local\\programs\\python\\python311\\lib\\site-packages (from matplotlib>=3.0.0->mlxtend) (1.4.5)\n",
      "Requirement already satisfied: packaging>=20.0 in c:\\users\\shekh\\appdata\\local\\programs\\python\\python311\\lib\\site-packages (from matplotlib>=3.0.0->mlxtend) (23.1)\n",
      "Requirement already satisfied: pillow>=6.2.0 in c:\\users\\shekh\\appdata\\local\\programs\\python\\python311\\lib\\site-packages (from matplotlib>=3.0.0->mlxtend) (10.0.0)\n",
      "Requirement already satisfied: pyparsing<3.1,>=2.3.1 in c:\\users\\shekh\\appdata\\local\\programs\\python\\python311\\lib\\site-packages (from matplotlib>=3.0.0->mlxtend) (3.0.9)\n",
      "Requirement already satisfied: python-dateutil>=2.7 in c:\\users\\shekh\\appdata\\local\\programs\\python\\python311\\lib\\site-packages (from matplotlib>=3.0.0->mlxtend) (2.8.2)\n",
      "Requirement already satisfied: pytz>=2020.1 in c:\\users\\shekh\\appdata\\local\\programs\\python\\python311\\lib\\site-packages (from pandas>=0.24.2->mlxtend) (2023.3)\n",
      "Requirement already satisfied: tzdata>=2022.1 in c:\\users\\shekh\\appdata\\local\\programs\\python\\python311\\lib\\site-packages (from pandas>=0.24.2->mlxtend) (2023.3)\n",
      "Requirement already satisfied: threadpoolctl>=2.0.0 in c:\\users\\shekh\\appdata\\local\\programs\\python\\python311\\lib\\site-packages (from scikit-learn>=1.0.2->mlxtend) (3.2.0)\n",
      "Requirement already satisfied: six>=1.5 in c:\\users\\shekh\\appdata\\local\\programs\\python\\python311\\lib\\site-packages (from python-dateutil>=2.7->matplotlib>=3.0.0->mlxtend) (1.16.0)\n",
      "Downloading mlxtend-0.23.1-py3-none-any.whl (1.4 MB)\n",
      "   ---------------------------------------- 0.0/1.4 MB ? eta -:--:--\n",
      "   ---------------------------------------- 0.0/1.4 MB ? eta -:--:--\n",
      "   ---------------------------------------- 0.0/1.4 MB ? eta -:--:--\n",
      "   ---------------------------------------- 0.0/1.4 MB ? eta -:--:--\n",
      "   ---------------------------------------- 0.0/1.4 MB ? eta -:--:--\n",
      "   ---------------------------------------- 0.0/1.4 MB ? eta -:--:--\n",
      "   ---------------------------------------- 0.0/1.4 MB ? eta -:--:--\n",
      "   ---------------------------------------- 0.0/1.4 MB ? eta -:--:--\n",
      "   ---------------------------------------- 0.0/1.4 MB ? eta -:--:--\n",
      "   ---------------------------------------- 0.0/1.4 MB ? eta -:--:--\n",
      "   ---------------------------------------- 0.0/1.4 MB ? eta -:--:--\n",
      "   ---------------------------------------- 0.0/1.4 MB ? eta -:--:--\n",
      "   ---------------------------------------- 0.0/1.4 MB ? eta -:--:--\n",
      "   ---------------------------------------- 0.0/1.4 MB ? eta -:--:--\n",
      "    --------------------------------------- 0.0/1.4 MB 36.4 kB/s eta 0:00:40\n",
      "    --------------------------------------- 0.0/1.4 MB 36.4 kB/s eta 0:00:40\n",
      "    --------------------------------------- 0.0/1.4 MB 36.4 kB/s eta 0:00:40\n",
      "    --------------------------------------- 0.0/1.4 MB 36.4 kB/s eta 0:00:40\n",
      "    --------------------------------------- 0.0/1.4 MB 36.4 kB/s eta 0:00:40\n",
      "    --------------------------------------- 0.0/1.4 MB 36.4 kB/s eta 0:00:40\n",
      "    --------------------------------------- 0.0/1.4 MB 36.4 kB/s eta 0:00:40\n",
      "    --------------------------------------- 0.0/1.4 MB 36.4 kB/s eta 0:00:40\n",
      "   - -------------------------------------- 0.0/1.4 MB 31.7 kB/s eta 0:00:45\n",
      "   - -------------------------------------- 0.0/1.4 MB 31.7 kB/s eta 0:00:45\n",
      "   - -------------------------------------- 0.0/1.4 MB 31.7 kB/s eta 0:00:45\n",
      "   - -------------------------------------- 0.0/1.4 MB 31.7 kB/s eta 0:00:45\n",
      "   - -------------------------------------- 0.1/1.4 MB 42.6 kB/s eta 0:00:33\n",
      "   - -------------------------------------- 0.1/1.4 MB 42.6 kB/s eta 0:00:33\n",
      "   - -------------------------------------- 0.1/1.4 MB 42.6 kB/s eta 0:00:33\n",
      "   -- ------------------------------------- 0.1/1.4 MB 52.7 kB/s eta 0:00:26\n",
      "   -- ------------------------------------- 0.1/1.4 MB 52.7 kB/s eta 0:00:26\n",
      "   -- ------------------------------------- 0.1/1.4 MB 57.0 kB/s eta 0:00:24\n",
      "   --- ------------------------------------ 0.1/1.4 MB 69.7 kB/s eta 0:00:20\n",
      "   --- ------------------------------------ 0.1/1.4 MB 73.5 kB/s eta 0:00:19\n",
      "   --- ------------------------------------ 0.1/1.4 MB 83.5 kB/s eta 0:00:16\n",
      "   ---- ----------------------------------- 0.2/1.4 MB 94.5 kB/s eta 0:00:14\n",
      "   ---- ----------------------------------- 0.2/1.4 MB 98.9 kB/s eta 0:00:13\n",
      "   ----- ---------------------------------- 0.2/1.4 MB 108.2 kB/s eta 0:00:12\n",
      "   ----- ---------------------------------- 0.2/1.4 MB 111.2 kB/s eta 0:00:12\n",
      "   ------ --------------------------------- 0.2/1.4 MB 118.6 kB/s eta 0:00:11\n",
      "   ------ --------------------------------- 0.2/1.4 MB 126.6 kB/s eta 0:00:10\n",
      "   ------- -------------------------------- 0.3/1.4 MB 128.9 kB/s eta 0:00:10\n",
      "   ------- -------------------------------- 0.3/1.4 MB 128.9 kB/s eta 0:00:10\n",
      "   ------- -------------------------------- 0.3/1.4 MB 138.2 kB/s eta 0:00:09\n",
      "   --------- ------------------------------ 0.3/1.4 MB 155.1 kB/s eta 0:00:08\n",
      "   --------- ------------------------------ 0.4/1.4 MB 166.3 kB/s eta 0:00:07\n",
      "   ----------- ---------------------------- 0.4/1.4 MB 186.5 kB/s eta 0:00:06\n",
      "   ------------ --------------------------- 0.4/1.4 MB 195.2 kB/s eta 0:00:06\n",
      "   ------------ --------------------------- 0.5/1.4 MB 204.8 kB/s eta 0:00:05\n",
      "   ------------- -------------------------- 0.5/1.4 MB 209.5 kB/s eta 0:00:05\n",
      "   -------------- ------------------------- 0.5/1.4 MB 219.9 kB/s eta 0:00:05\n",
      "   --------------- ------------------------ 0.6/1.4 MB 237.1 kB/s eta 0:00:04\n",
      "   ---------------- ----------------------- 0.6/1.4 MB 247.8 kB/s eta 0:00:04\n",
      "   ----------------- ---------------------- 0.6/1.4 MB 254.6 kB/s eta 0:00:04\n",
      "   ------------------- -------------------- 0.7/1.4 MB 271.0 kB/s eta 0:00:03\n",
      "   ------------------- -------------------- 0.7/1.4 MB 279.1 kB/s eta 0:00:03\n",
      "   --------------------- ------------------ 0.8/1.4 MB 290.3 kB/s eta 0:00:03\n",
      "   ---------------------- ----------------- 0.8/1.4 MB 306.6 kB/s eta 0:00:03\n",
      "   ------------------------ --------------- 0.9/1.4 MB 320.1 kB/s eta 0:00:02\n",
      "   ------------------------- -------------- 0.9/1.4 MB 327.7 kB/s eta 0:00:02\n",
      "   --------------------------- ------------ 1.0/1.4 MB 349.5 kB/s eta 0:00:02\n",
      "   ----------------------------- ---------- 1.1/1.4 MB 368.8 kB/s eta 0:00:02\n",
      "   ----------------------------- ---------- 1.1/1.4 MB 368.8 kB/s eta 0:00:02\n",
      "   ----------------------------- ---------- 1.1/1.4 MB 368.8 kB/s eta 0:00:02\n",
      "   ----------------------------- ---------- 1.1/1.4 MB 358.4 kB/s eta 0:00:02\n",
      "   ------------------------------ --------- 1.1/1.4 MB 361.4 kB/s eta 0:00:01\n",
      "   -------------------------------- ------- 1.2/1.4 MB 377.3 kB/s eta 0:00:01\n",
      "   ---------------------------------- ----- 1.2/1.4 MB 393.2 kB/s eta 0:00:01\n",
      "   ----------------------------------- ---- 1.3/1.4 MB 399.0 kB/s eta 0:00:01\n",
      "   ------------------------------------ --- 1.3/1.4 MB 407.2 kB/s eta 0:00:01\n",
      "   ------------------------------------- -- 1.3/1.4 MB 411.5 kB/s eta 0:00:01\n",
      "   ---------------------------------------  1.4/1.4 MB 424.6 kB/s eta 0:00:01\n",
      "   ---------------------------------------- 1.4/1.4 MB 428.4 kB/s eta 0:00:00\n",
      "Installing collected packages: mlxtend\n",
      "Successfully installed mlxtend-0.23.1\n",
      "Note: you may need to restart the kernel to use updated packages.\n"
     ]
    },
    {
     "name": "stderr",
     "output_type": "stream",
     "text": [
      "  WARNING: Retrying (Retry(total=4, connect=None, read=None, redirect=None, status=None)) after connection broken by 'ConnectTimeoutError(<pip._vendor.urllib3.connection.HTTPSConnection object at 0x000001A528FCAE10>, 'Connection to files.pythonhosted.org timed out. (connect timeout=15)')': /packages/1c/07/512f6a780239ad6ce06ce2aa7b4067583f5ddcfc7703a964a082c706a070/mlxtend-0.23.1-py3-none-any.whl.metadata\n",
      "  WARNING: Retrying (Retry(total=3, connect=None, read=None, redirect=None, status=None)) after connection broken by 'ConnectTimeoutError(<pip._vendor.urllib3.connection.HTTPSConnection object at 0x000001A528FCB510>, 'Connection to files.pythonhosted.org timed out. (connect timeout=15)')': /packages/1c/07/512f6a780239ad6ce06ce2aa7b4067583f5ddcfc7703a964a082c706a070/mlxtend-0.23.1-py3-none-any.whl.metadata\n"
     ]
    }
   ],
   "source": [
    "pip install mlxtend\n"
   ]
  },
  {
   "cell_type": "code",
   "execution_count": null,
   "metadata": {},
   "outputs": [],
   "source": []
  }
 ],
 "metadata": {
  "kernelspec": {
   "display_name": "Python 3",
   "language": "python",
   "name": "python3"
  },
  "language_info": {
   "codemirror_mode": {
    "name": "ipython",
    "version": 3
   },
   "file_extension": ".py",
   "mimetype": "text/x-python",
   "name": "python",
   "nbconvert_exporter": "python",
   "pygments_lexer": "ipython3",
   "version": "3.11.4"
  }
 },
 "nbformat": 4,
 "nbformat_minor": 2
}
