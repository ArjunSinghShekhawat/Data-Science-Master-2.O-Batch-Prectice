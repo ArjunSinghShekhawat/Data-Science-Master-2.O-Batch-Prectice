{
 "cells": [
  {
   "cell_type": "code",
   "execution_count": 1,
   "metadata": {},
   "outputs": [],
   "source": [
    "import pandas as pd\n",
    "import numpy as np\n"
   ]
  },
  {
   "cell_type": "code",
   "execution_count": 2,
   "metadata": {},
   "outputs": [],
   "source": [
    "import matplotlib.pyplot as plt"
   ]
  },
  {
   "cell_type": "code",
   "execution_count": 3,
   "metadata": {},
   "outputs": [],
   "source": [
    "from sklearn.datasets import make_classification"
   ]
  },
  {
   "cell_type": "code",
   "execution_count": 8,
   "metadata": {},
   "outputs": [],
   "source": [
    "x,y = make_classification(n_samples=10000,n_features=3,n_classes=2,n_redundant=1,random_state=42)"
   ]
  },
  {
   "cell_type": "code",
   "execution_count": 9,
   "metadata": {},
   "outputs": [
    {
     "data": {
      "text/plain": [
       "array([[ 0.77144029, -0.03909349, -1.26233499],\n",
       "       [-1.2921157 ,  0.92631278, -0.40911066],\n",
       "       [-1.42722051,  0.31661032,  1.6193163 ],\n",
       "       ...,\n",
       "       [ 1.28657493, -0.66586829, -0.34446599],\n",
       "       [ 1.04275178, -0.18116461, -1.33012838],\n",
       "       [-0.90758902,  0.25964617,  0.85881751]])"
      ]
     },
     "execution_count": 9,
     "metadata": {},
     "output_type": "execute_result"
    }
   ],
   "source": [
    "x"
   ]
  },
  {
   "cell_type": "code",
   "execution_count": 10,
   "metadata": {},
   "outputs": [
    {
     "data": {
      "text/plain": [
       "array([0, 0, 1, ..., 0, 1, 1])"
      ]
     },
     "execution_count": 10,
     "metadata": {},
     "output_type": "execute_result"
    }
   ],
   "source": [
    "y"
   ]
  },
  {
   "cell_type": "code",
   "execution_count": null,
   "metadata": {},
   "outputs": [],
   "source": []
  },
  {
   "cell_type": "code",
   "execution_count": 13,
   "metadata": {},
   "outputs": [],
   "source": [
    "from sklearn.model_selection import train_test_split\n",
    "x_train,x_test,y_train,y_test = train_test_split(x,y,test_size=0.20,random_state=42)"
   ]
  },
  {
   "cell_type": "code",
   "execution_count": 15,
   "metadata": {},
   "outputs": [],
   "source": [
    "from sklearn.neighbors import KNeighborsClassifier"
   ]
  },
  {
   "cell_type": "code",
   "execution_count": 16,
   "metadata": {},
   "outputs": [],
   "source": [
    "classifier = KNeighborsClassifier(n_neighbors=5,algorithm='auto')"
   ]
  },
  {
   "cell_type": "code",
   "execution_count": 17,
   "metadata": {},
   "outputs": [
    {
     "data": {
      "text/html": [
       "<style>#sk-container-id-1 {color: black;}#sk-container-id-1 pre{padding: 0;}#sk-container-id-1 div.sk-toggleable {background-color: white;}#sk-container-id-1 label.sk-toggleable__label {cursor: pointer;display: block;width: 100%;margin-bottom: 0;padding: 0.3em;box-sizing: border-box;text-align: center;}#sk-container-id-1 label.sk-toggleable__label-arrow:before {content: \"▸\";float: left;margin-right: 0.25em;color: #696969;}#sk-container-id-1 label.sk-toggleable__label-arrow:hover:before {color: black;}#sk-container-id-1 div.sk-estimator:hover label.sk-toggleable__label-arrow:before {color: black;}#sk-container-id-1 div.sk-toggleable__content {max-height: 0;max-width: 0;overflow: hidden;text-align: left;background-color: #f0f8ff;}#sk-container-id-1 div.sk-toggleable__content pre {margin: 0.2em;color: black;border-radius: 0.25em;background-color: #f0f8ff;}#sk-container-id-1 input.sk-toggleable__control:checked~div.sk-toggleable__content {max-height: 200px;max-width: 100%;overflow: auto;}#sk-container-id-1 input.sk-toggleable__control:checked~label.sk-toggleable__label-arrow:before {content: \"▾\";}#sk-container-id-1 div.sk-estimator input.sk-toggleable__control:checked~label.sk-toggleable__label {background-color: #d4ebff;}#sk-container-id-1 div.sk-label input.sk-toggleable__control:checked~label.sk-toggleable__label {background-color: #d4ebff;}#sk-container-id-1 input.sk-hidden--visually {border: 0;clip: rect(1px 1px 1px 1px);clip: rect(1px, 1px, 1px, 1px);height: 1px;margin: -1px;overflow: hidden;padding: 0;position: absolute;width: 1px;}#sk-container-id-1 div.sk-estimator {font-family: monospace;background-color: #f0f8ff;border: 1px dotted black;border-radius: 0.25em;box-sizing: border-box;margin-bottom: 0.5em;}#sk-container-id-1 div.sk-estimator:hover {background-color: #d4ebff;}#sk-container-id-1 div.sk-parallel-item::after {content: \"\";width: 100%;border-bottom: 1px solid gray;flex-grow: 1;}#sk-container-id-1 div.sk-label:hover label.sk-toggleable__label {background-color: #d4ebff;}#sk-container-id-1 div.sk-serial::before {content: \"\";position: absolute;border-left: 1px solid gray;box-sizing: border-box;top: 0;bottom: 0;left: 50%;z-index: 0;}#sk-container-id-1 div.sk-serial {display: flex;flex-direction: column;align-items: center;background-color: white;padding-right: 0.2em;padding-left: 0.2em;position: relative;}#sk-container-id-1 div.sk-item {position: relative;z-index: 1;}#sk-container-id-1 div.sk-parallel {display: flex;align-items: stretch;justify-content: center;background-color: white;position: relative;}#sk-container-id-1 div.sk-item::before, #sk-container-id-1 div.sk-parallel-item::before {content: \"\";position: absolute;border-left: 1px solid gray;box-sizing: border-box;top: 0;bottom: 0;left: 50%;z-index: -1;}#sk-container-id-1 div.sk-parallel-item {display: flex;flex-direction: column;z-index: 1;position: relative;background-color: white;}#sk-container-id-1 div.sk-parallel-item:first-child::after {align-self: flex-end;width: 50%;}#sk-container-id-1 div.sk-parallel-item:last-child::after {align-self: flex-start;width: 50%;}#sk-container-id-1 div.sk-parallel-item:only-child::after {width: 0;}#sk-container-id-1 div.sk-dashed-wrapped {border: 1px dashed gray;margin: 0 0.4em 0.5em 0.4em;box-sizing: border-box;padding-bottom: 0.4em;background-color: white;}#sk-container-id-1 div.sk-label label {font-family: monospace;font-weight: bold;display: inline-block;line-height: 1.2em;}#sk-container-id-1 div.sk-label-container {text-align: center;}#sk-container-id-1 div.sk-container {/* jupyter's `normalize.less` sets `[hidden] { display: none; }` but bootstrap.min.css set `[hidden] { display: none !important; }` so we also need the `!important` here to be able to override the default hidden behavior on the sphinx rendered scikit-learn.org. See: https://github.com/scikit-learn/scikit-learn/issues/21755 */display: inline-block !important;position: relative;}#sk-container-id-1 div.sk-text-repr-fallback {display: none;}</style><div id=\"sk-container-id-1\" class=\"sk-top-container\"><div class=\"sk-text-repr-fallback\"><pre>KNeighborsClassifier()</pre><b>In a Jupyter environment, please rerun this cell to show the HTML representation or trust the notebook. <br />On GitHub, the HTML representation is unable to render, please try loading this page with nbviewer.org.</b></div><div class=\"sk-container\" hidden><div class=\"sk-item\"><div class=\"sk-estimator sk-toggleable\"><input class=\"sk-toggleable__control sk-hidden--visually\" id=\"sk-estimator-id-1\" type=\"checkbox\" checked><label for=\"sk-estimator-id-1\" class=\"sk-toggleable__label sk-toggleable__label-arrow\">KNeighborsClassifier</label><div class=\"sk-toggleable__content\"><pre>KNeighborsClassifier()</pre></div></div></div></div></div>"
      ],
      "text/plain": [
       "KNeighborsClassifier()"
      ]
     },
     "execution_count": 17,
     "metadata": {},
     "output_type": "execute_result"
    }
   ],
   "source": [
    "classifier.fit(x_train,y_train)"
   ]
  },
  {
   "cell_type": "code",
   "execution_count": 18,
   "metadata": {},
   "outputs": [
    {
     "data": {
      "text/plain": [
       "<bound method BaseEstimator.get_params of KNeighborsClassifier()>"
      ]
     },
     "execution_count": 18,
     "metadata": {},
     "output_type": "execute_result"
    }
   ],
   "source": [
    "classifier.get_params"
   ]
  },
  {
   "cell_type": "code",
   "execution_count": 19,
   "metadata": {},
   "outputs": [],
   "source": [
    "y_pred = classifier.predict(x_test)"
   ]
  },
  {
   "cell_type": "code",
   "execution_count": 20,
   "metadata": {},
   "outputs": [
    {
     "data": {
      "text/plain": [
       "array([1, 0, 0, ..., 1, 1, 1])"
      ]
     },
     "execution_count": 20,
     "metadata": {},
     "output_type": "execute_result"
    }
   ],
   "source": [
    "y_pred"
   ]
  },
  {
   "cell_type": "code",
   "execution_count": 21,
   "metadata": {},
   "outputs": [
    {
     "data": {
      "text/plain": [
       "array([1, 0, 0, ..., 1, 1, 1])"
      ]
     },
     "execution_count": 21,
     "metadata": {},
     "output_type": "execute_result"
    }
   ],
   "source": [
    "y_test"
   ]
  },
  {
   "cell_type": "code",
   "execution_count": 22,
   "metadata": {},
   "outputs": [],
   "source": [
    "from sklearn.metrics import confusion_matrix,accuracy_score,classification_report"
   ]
  },
  {
   "cell_type": "code",
   "execution_count": 23,
   "metadata": {},
   "outputs": [
    {
     "name": "stdout",
     "output_type": "stream",
     "text": [
      "[[938  61]\n",
      " [ 75 926]]\n",
      "0.932\n",
      "              precision    recall  f1-score   support\n",
      "\n",
      "           0       0.93      0.94      0.93       999\n",
      "           1       0.94      0.93      0.93      1001\n",
      "\n",
      "    accuracy                           0.93      2000\n",
      "   macro avg       0.93      0.93      0.93      2000\n",
      "weighted avg       0.93      0.93      0.93      2000\n",
      "\n"
     ]
    }
   ],
   "source": [
    "print(confusion_matrix(y_pred,y_test))\n",
    "print(accuracy_score(y_pred,y_test))\n",
    "print(classification_report(y_pred,y_test))"
   ]
  },
  {
   "cell_type": "code",
   "execution_count": 24,
   "metadata": {},
   "outputs": [],
   "source": [
    "#Hyperparameter tunning"
   ]
  },
  {
   "cell_type": "code",
   "execution_count": 25,
   "metadata": {},
   "outputs": [],
   "source": [
    "from sklearn.model_selection import GridSearchCV"
   ]
  },
  {
   "cell_type": "code",
   "execution_count": 29,
   "metadata": {},
   "outputs": [],
   "source": [
    "parameter = {\n",
    "    'n_neighbors':[5,10,15],\n",
    "    'weights':['uniform','distance'],\n",
    "    'algorithm':['auto'],\n",
    "    'p':[1,2],\n",
    "    'n_jobs':[1,2,-1],\n",
    "    }"
   ]
  },
  {
   "cell_type": "code",
   "execution_count": 30,
   "metadata": {},
   "outputs": [],
   "source": [
    "clf  = GridSearchCV(KNeighborsClassifier(),param_grid=parameter,cv=5,refit=True,verbose=3)"
   ]
  },
  {
   "cell_type": "code",
   "execution_count": 31,
   "metadata": {},
   "outputs": [
    {
     "name": "stdout",
     "output_type": "stream",
     "text": [
      "Fitting 5 folds for each of 36 candidates, totalling 180 fits\n",
      "[CV 1/5] END algorithm=auto, n_jobs=1, n_neighbors=5, p=1, weights=uniform;, score=0.928 total time=   0.0s\n",
      "[CV 2/5] END algorithm=auto, n_jobs=1, n_neighbors=5, p=1, weights=uniform;, score=0.932 total time=   0.0s\n",
      "[CV 3/5] END algorithm=auto, n_jobs=1, n_neighbors=5, p=1, weights=uniform;, score=0.934 total time=   0.0s\n",
      "[CV 4/5] END algorithm=auto, n_jobs=1, n_neighbors=5, p=1, weights=uniform;, score=0.941 total time=   0.0s\n",
      "[CV 5/5] END algorithm=auto, n_jobs=1, n_neighbors=5, p=1, weights=uniform;, score=0.936 total time=   0.0s\n",
      "[CV 1/5] END algorithm=auto, n_jobs=1, n_neighbors=5, p=1, weights=distance;, score=0.926 total time=   0.0s\n",
      "[CV 2/5] END algorithm=auto, n_jobs=1, n_neighbors=5, p=1, weights=distance;, score=0.926 total time=   0.0s\n",
      "[CV 3/5] END algorithm=auto, n_jobs=1, n_neighbors=5, p=1, weights=distance;, score=0.930 total time=   0.0s\n",
      "[CV 4/5] END algorithm=auto, n_jobs=1, n_neighbors=5, p=1, weights=distance;, score=0.938 total time=   0.0s\n",
      "[CV 5/5] END algorithm=auto, n_jobs=1, n_neighbors=5, p=1, weights=distance;, score=0.934 total time=   0.0s\n",
      "[CV 1/5] END algorithm=auto, n_jobs=1, n_neighbors=5, p=2, weights=uniform;, score=0.928 total time=   0.0s\n",
      "[CV 2/5] END algorithm=auto, n_jobs=1, n_neighbors=5, p=2, weights=uniform;, score=0.930 total time=   0.0s\n",
      "[CV 3/5] END algorithm=auto, n_jobs=1, n_neighbors=5, p=2, weights=uniform;, score=0.934 total time=   0.0s\n",
      "[CV 4/5] END algorithm=auto, n_jobs=1, n_neighbors=5, p=2, weights=uniform;, score=0.943 total time=   0.0s\n",
      "[CV 5/5] END algorithm=auto, n_jobs=1, n_neighbors=5, p=2, weights=uniform;, score=0.934 total time=   0.0s\n",
      "[CV 1/5] END algorithm=auto, n_jobs=1, n_neighbors=5, p=2, weights=distance;, score=0.926 total time=   0.0s\n",
      "[CV 2/5] END algorithm=auto, n_jobs=1, n_neighbors=5, p=2, weights=distance;, score=0.926 total time=   0.0s\n",
      "[CV 3/5] END algorithm=auto, n_jobs=1, n_neighbors=5, p=2, weights=distance;, score=0.929 total time=   0.0s\n",
      "[CV 4/5] END algorithm=auto, n_jobs=1, n_neighbors=5, p=2, weights=distance;, score=0.938 total time=   0.0s\n",
      "[CV 5/5] END algorithm=auto, n_jobs=1, n_neighbors=5, p=2, weights=distance;, score=0.932 total time=   0.0s\n",
      "[CV 1/5] END algorithm=auto, n_jobs=1, n_neighbors=10, p=1, weights=uniform;, score=0.933 total time=   0.0s\n",
      "[CV 2/5] END algorithm=auto, n_jobs=1, n_neighbors=10, p=1, weights=uniform;, score=0.934 total time=   0.0s\n",
      "[CV 3/5] END algorithm=auto, n_jobs=1, n_neighbors=10, p=1, weights=uniform;, score=0.934 total time=   0.0s\n",
      "[CV 4/5] END algorithm=auto, n_jobs=1, n_neighbors=10, p=1, weights=uniform;, score=0.943 total time=   0.0s\n",
      "[CV 5/5] END algorithm=auto, n_jobs=1, n_neighbors=10, p=1, weights=uniform;, score=0.942 total time=   0.0s\n",
      "[CV 1/5] END algorithm=auto, n_jobs=1, n_neighbors=10, p=1, weights=distance;, score=0.934 total time=   0.0s\n",
      "[CV 2/5] END algorithm=auto, n_jobs=1, n_neighbors=10, p=1, weights=distance;, score=0.931 total time=   0.0s\n",
      "[CV 3/5] END algorithm=auto, n_jobs=1, n_neighbors=10, p=1, weights=distance;, score=0.937 total time=   0.0s\n",
      "[CV 4/5] END algorithm=auto, n_jobs=1, n_neighbors=10, p=1, weights=distance;, score=0.940 total time=   0.0s\n",
      "[CV 5/5] END algorithm=auto, n_jobs=1, n_neighbors=10, p=1, weights=distance;, score=0.940 total time=   0.0s\n",
      "[CV 1/5] END algorithm=auto, n_jobs=1, n_neighbors=10, p=2, weights=uniform;, score=0.931 total time=   0.0s\n",
      "[CV 2/5] END algorithm=auto, n_jobs=1, n_neighbors=10, p=2, weights=uniform;, score=0.937 total time=   0.0s\n",
      "[CV 3/5] END algorithm=auto, n_jobs=1, n_neighbors=10, p=2, weights=uniform;, score=0.939 total time=   0.0s\n",
      "[CV 4/5] END algorithm=auto, n_jobs=1, n_neighbors=10, p=2, weights=uniform;, score=0.943 total time=   0.0s\n",
      "[CV 5/5] END algorithm=auto, n_jobs=1, n_neighbors=10, p=2, weights=uniform;, score=0.943 total time=   0.0s\n",
      "[CV 1/5] END algorithm=auto, n_jobs=1, n_neighbors=10, p=2, weights=distance;, score=0.934 total time=   0.0s\n",
      "[CV 2/5] END algorithm=auto, n_jobs=1, n_neighbors=10, p=2, weights=distance;, score=0.931 total time=   0.0s\n",
      "[CV 3/5] END algorithm=auto, n_jobs=1, n_neighbors=10, p=2, weights=distance;, score=0.938 total time=   0.0s\n",
      "[CV 4/5] END algorithm=auto, n_jobs=1, n_neighbors=10, p=2, weights=distance;, score=0.941 total time=   0.0s\n",
      "[CV 5/5] END algorithm=auto, n_jobs=1, n_neighbors=10, p=2, weights=distance;, score=0.943 total time=   0.0s\n",
      "[CV 1/5] END algorithm=auto, n_jobs=1, n_neighbors=15, p=1, weights=uniform;, score=0.936 total time=   0.0s\n",
      "[CV 2/5] END algorithm=auto, n_jobs=1, n_neighbors=15, p=1, weights=uniform;, score=0.932 total time=   0.0s\n",
      "[CV 3/5] END algorithm=auto, n_jobs=1, n_neighbors=15, p=1, weights=uniform;, score=0.938 total time=   0.0s\n",
      "[CV 4/5] END algorithm=auto, n_jobs=1, n_neighbors=15, p=1, weights=uniform;, score=0.946 total time=   0.0s\n",
      "[CV 5/5] END algorithm=auto, n_jobs=1, n_neighbors=15, p=1, weights=uniform;, score=0.943 total time=   0.0s\n",
      "[CV 1/5] END algorithm=auto, n_jobs=1, n_neighbors=15, p=1, weights=distance;, score=0.936 total time=   0.0s\n",
      "[CV 2/5] END algorithm=auto, n_jobs=1, n_neighbors=15, p=1, weights=distance;, score=0.933 total time=   0.0s\n",
      "[CV 3/5] END algorithm=auto, n_jobs=1, n_neighbors=15, p=1, weights=distance;, score=0.938 total time=   0.0s\n",
      "[CV 4/5] END algorithm=auto, n_jobs=1, n_neighbors=15, p=1, weights=distance;, score=0.941 total time=   0.0s\n",
      "[CV 5/5] END algorithm=auto, n_jobs=1, n_neighbors=15, p=1, weights=distance;, score=0.944 total time=   0.0s\n",
      "[CV 1/5] END algorithm=auto, n_jobs=1, n_neighbors=15, p=2, weights=uniform;, score=0.934 total time=   0.0s\n",
      "[CV 2/5] END algorithm=auto, n_jobs=1, n_neighbors=15, p=2, weights=uniform;, score=0.931 total time=   0.0s\n",
      "[CV 3/5] END algorithm=auto, n_jobs=1, n_neighbors=15, p=2, weights=uniform;, score=0.939 total time=   0.0s\n",
      "[CV 4/5] END algorithm=auto, n_jobs=1, n_neighbors=15, p=2, weights=uniform;, score=0.945 total time=   0.0s\n",
      "[CV 5/5] END algorithm=auto, n_jobs=1, n_neighbors=15, p=2, weights=uniform;, score=0.941 total time=   0.0s\n",
      "[CV 1/5] END algorithm=auto, n_jobs=1, n_neighbors=15, p=2, weights=distance;, score=0.937 total time=   0.0s\n",
      "[CV 2/5] END algorithm=auto, n_jobs=1, n_neighbors=15, p=2, weights=distance;, score=0.933 total time=   0.0s\n",
      "[CV 3/5] END algorithm=auto, n_jobs=1, n_neighbors=15, p=2, weights=distance;, score=0.938 total time=   0.0s\n",
      "[CV 4/5] END algorithm=auto, n_jobs=1, n_neighbors=15, p=2, weights=distance;, score=0.941 total time=   0.0s\n",
      "[CV 5/5] END algorithm=auto, n_jobs=1, n_neighbors=15, p=2, weights=distance;, score=0.942 total time=   0.0s\n",
      "[CV 1/5] END algorithm=auto, n_jobs=2, n_neighbors=5, p=1, weights=uniform;, score=0.928 total time=   0.0s\n",
      "[CV 2/5] END algorithm=auto, n_jobs=2, n_neighbors=5, p=1, weights=uniform;, score=0.932 total time=   0.0s\n",
      "[CV 3/5] END algorithm=auto, n_jobs=2, n_neighbors=5, p=1, weights=uniform;, score=0.934 total time=   0.0s\n",
      "[CV 4/5] END algorithm=auto, n_jobs=2, n_neighbors=5, p=1, weights=uniform;, score=0.941 total time=   0.0s\n",
      "[CV 5/5] END algorithm=auto, n_jobs=2, n_neighbors=5, p=1, weights=uniform;, score=0.936 total time=   0.0s\n",
      "[CV 1/5] END algorithm=auto, n_jobs=2, n_neighbors=5, p=1, weights=distance;, score=0.926 total time=   0.0s\n",
      "[CV 2/5] END algorithm=auto, n_jobs=2, n_neighbors=5, p=1, weights=distance;, score=0.926 total time=   0.0s\n",
      "[CV 3/5] END algorithm=auto, n_jobs=2, n_neighbors=5, p=1, weights=distance;, score=0.930 total time=   0.0s\n",
      "[CV 4/5] END algorithm=auto, n_jobs=2, n_neighbors=5, p=1, weights=distance;, score=0.938 total time=   0.0s\n",
      "[CV 5/5] END algorithm=auto, n_jobs=2, n_neighbors=5, p=1, weights=distance;, score=0.934 total time=   0.0s\n",
      "[CV 1/5] END algorithm=auto, n_jobs=2, n_neighbors=5, p=2, weights=uniform;, score=0.928 total time=   0.0s\n",
      "[CV 2/5] END algorithm=auto, n_jobs=2, n_neighbors=5, p=2, weights=uniform;, score=0.930 total time=   0.0s\n",
      "[CV 3/5] END algorithm=auto, n_jobs=2, n_neighbors=5, p=2, weights=uniform;, score=0.934 total time=   0.0s\n",
      "[CV 4/5] END algorithm=auto, n_jobs=2, n_neighbors=5, p=2, weights=uniform;, score=0.943 total time=   0.0s\n",
      "[CV 5/5] END algorithm=auto, n_jobs=2, n_neighbors=5, p=2, weights=uniform;, score=0.934 total time=   0.0s\n",
      "[CV 1/5] END algorithm=auto, n_jobs=2, n_neighbors=5, p=2, weights=distance;, score=0.926 total time=   0.0s\n",
      "[CV 2/5] END algorithm=auto, n_jobs=2, n_neighbors=5, p=2, weights=distance;, score=0.926 total time=   0.0s\n",
      "[CV 3/5] END algorithm=auto, n_jobs=2, n_neighbors=5, p=2, weights=distance;, score=0.929 total time=   0.0s\n",
      "[CV 4/5] END algorithm=auto, n_jobs=2, n_neighbors=5, p=2, weights=distance;, score=0.938 total time=   0.0s\n",
      "[CV 5/5] END algorithm=auto, n_jobs=2, n_neighbors=5, p=2, weights=distance;, score=0.932 total time=   0.0s\n",
      "[CV 1/5] END algorithm=auto, n_jobs=2, n_neighbors=10, p=1, weights=uniform;, score=0.933 total time=   0.0s\n",
      "[CV 2/5] END algorithm=auto, n_jobs=2, n_neighbors=10, p=1, weights=uniform;, score=0.934 total time=   0.0s\n",
      "[CV 3/5] END algorithm=auto, n_jobs=2, n_neighbors=10, p=1, weights=uniform;, score=0.934 total time=   0.0s\n",
      "[CV 4/5] END algorithm=auto, n_jobs=2, n_neighbors=10, p=1, weights=uniform;, score=0.943 total time=   0.0s\n",
      "[CV 5/5] END algorithm=auto, n_jobs=2, n_neighbors=10, p=1, weights=uniform;, score=0.942 total time=   0.0s\n",
      "[CV 1/5] END algorithm=auto, n_jobs=2, n_neighbors=10, p=1, weights=distance;, score=0.934 total time=   0.0s\n",
      "[CV 2/5] END algorithm=auto, n_jobs=2, n_neighbors=10, p=1, weights=distance;, score=0.931 total time=   0.0s\n",
      "[CV 3/5] END algorithm=auto, n_jobs=2, n_neighbors=10, p=1, weights=distance;, score=0.937 total time=   0.0s\n",
      "[CV 4/5] END algorithm=auto, n_jobs=2, n_neighbors=10, p=1, weights=distance;, score=0.940 total time=   0.0s\n",
      "[CV 5/5] END algorithm=auto, n_jobs=2, n_neighbors=10, p=1, weights=distance;, score=0.940 total time=   0.0s\n",
      "[CV 1/5] END algorithm=auto, n_jobs=2, n_neighbors=10, p=2, weights=uniform;, score=0.931 total time=   0.0s\n",
      "[CV 2/5] END algorithm=auto, n_jobs=2, n_neighbors=10, p=2, weights=uniform;, score=0.937 total time=   0.0s\n",
      "[CV 3/5] END algorithm=auto, n_jobs=2, n_neighbors=10, p=2, weights=uniform;, score=0.939 total time=   0.0s\n",
      "[CV 4/5] END algorithm=auto, n_jobs=2, n_neighbors=10, p=2, weights=uniform;, score=0.943 total time=   0.0s\n",
      "[CV 5/5] END algorithm=auto, n_jobs=2, n_neighbors=10, p=2, weights=uniform;, score=0.943 total time=   0.0s\n",
      "[CV 1/5] END algorithm=auto, n_jobs=2, n_neighbors=10, p=2, weights=distance;, score=0.934 total time=   0.0s\n",
      "[CV 2/5] END algorithm=auto, n_jobs=2, n_neighbors=10, p=2, weights=distance;, score=0.931 total time=   0.0s\n",
      "[CV 3/5] END algorithm=auto, n_jobs=2, n_neighbors=10, p=2, weights=distance;, score=0.938 total time=   0.0s\n",
      "[CV 4/5] END algorithm=auto, n_jobs=2, n_neighbors=10, p=2, weights=distance;, score=0.941 total time=   0.0s\n",
      "[CV 5/5] END algorithm=auto, n_jobs=2, n_neighbors=10, p=2, weights=distance;, score=0.943 total time=   0.0s\n",
      "[CV 1/5] END algorithm=auto, n_jobs=2, n_neighbors=15, p=1, weights=uniform;, score=0.936 total time=   0.0s\n",
      "[CV 2/5] END algorithm=auto, n_jobs=2, n_neighbors=15, p=1, weights=uniform;, score=0.932 total time=   0.0s\n",
      "[CV 3/5] END algorithm=auto, n_jobs=2, n_neighbors=15, p=1, weights=uniform;, score=0.938 total time=   0.0s\n",
      "[CV 4/5] END algorithm=auto, n_jobs=2, n_neighbors=15, p=1, weights=uniform;, score=0.946 total time=   0.0s\n",
      "[CV 5/5] END algorithm=auto, n_jobs=2, n_neighbors=15, p=1, weights=uniform;, score=0.943 total time=   0.0s\n",
      "[CV 1/5] END algorithm=auto, n_jobs=2, n_neighbors=15, p=1, weights=distance;, score=0.936 total time=   0.0s\n",
      "[CV 2/5] END algorithm=auto, n_jobs=2, n_neighbors=15, p=1, weights=distance;, score=0.933 total time=   0.0s\n",
      "[CV 3/5] END algorithm=auto, n_jobs=2, n_neighbors=15, p=1, weights=distance;, score=0.938 total time=   0.0s\n",
      "[CV 4/5] END algorithm=auto, n_jobs=2, n_neighbors=15, p=1, weights=distance;, score=0.941 total time=   0.0s\n",
      "[CV 5/5] END algorithm=auto, n_jobs=2, n_neighbors=15, p=1, weights=distance;, score=0.944 total time=   0.0s\n",
      "[CV 1/5] END algorithm=auto, n_jobs=2, n_neighbors=15, p=2, weights=uniform;, score=0.934 total time=   0.0s\n",
      "[CV 2/5] END algorithm=auto, n_jobs=2, n_neighbors=15, p=2, weights=uniform;, score=0.931 total time=   0.0s\n",
      "[CV 3/5] END algorithm=auto, n_jobs=2, n_neighbors=15, p=2, weights=uniform;, score=0.939 total time=   0.0s\n",
      "[CV 4/5] END algorithm=auto, n_jobs=2, n_neighbors=15, p=2, weights=uniform;, score=0.945 total time=   0.0s\n",
      "[CV 5/5] END algorithm=auto, n_jobs=2, n_neighbors=15, p=2, weights=uniform;, score=0.941 total time=   0.0s\n",
      "[CV 1/5] END algorithm=auto, n_jobs=2, n_neighbors=15, p=2, weights=distance;, score=0.937 total time=   0.0s\n",
      "[CV 2/5] END algorithm=auto, n_jobs=2, n_neighbors=15, p=2, weights=distance;, score=0.933 total time=   0.0s\n",
      "[CV 3/5] END algorithm=auto, n_jobs=2, n_neighbors=15, p=2, weights=distance;, score=0.938 total time=   0.0s\n",
      "[CV 4/5] END algorithm=auto, n_jobs=2, n_neighbors=15, p=2, weights=distance;, score=0.941 total time=   0.0s\n",
      "[CV 5/5] END algorithm=auto, n_jobs=2, n_neighbors=15, p=2, weights=distance;, score=0.942 total time=   0.0s\n",
      "[CV 1/5] END algorithm=auto, n_jobs=-1, n_neighbors=5, p=1, weights=uniform;, score=0.928 total time=   0.0s\n",
      "[CV 2/5] END algorithm=auto, n_jobs=-1, n_neighbors=5, p=1, weights=uniform;, score=0.932 total time=   0.0s\n",
      "[CV 3/5] END algorithm=auto, n_jobs=-1, n_neighbors=5, p=1, weights=uniform;, score=0.934 total time=   0.0s\n",
      "[CV 4/5] END algorithm=auto, n_jobs=-1, n_neighbors=5, p=1, weights=uniform;, score=0.941 total time=   0.0s\n",
      "[CV 5/5] END algorithm=auto, n_jobs=-1, n_neighbors=5, p=1, weights=uniform;, score=0.936 total time=   0.0s\n",
      "[CV 1/5] END algorithm=auto, n_jobs=-1, n_neighbors=5, p=1, weights=distance;, score=0.926 total time=   0.0s\n",
      "[CV 2/5] END algorithm=auto, n_jobs=-1, n_neighbors=5, p=1, weights=distance;, score=0.926 total time=   0.0s\n",
      "[CV 3/5] END algorithm=auto, n_jobs=-1, n_neighbors=5, p=1, weights=distance;, score=0.930 total time=   0.0s\n",
      "[CV 4/5] END algorithm=auto, n_jobs=-1, n_neighbors=5, p=1, weights=distance;, score=0.938 total time=   0.0s\n",
      "[CV 5/5] END algorithm=auto, n_jobs=-1, n_neighbors=5, p=1, weights=distance;, score=0.934 total time=   0.0s\n",
      "[CV 1/5] END algorithm=auto, n_jobs=-1, n_neighbors=5, p=2, weights=uniform;, score=0.928 total time=   0.0s\n",
      "[CV 2/5] END algorithm=auto, n_jobs=-1, n_neighbors=5, p=2, weights=uniform;, score=0.930 total time=   0.0s\n",
      "[CV 3/5] END algorithm=auto, n_jobs=-1, n_neighbors=5, p=2, weights=uniform;, score=0.934 total time=   0.0s\n",
      "[CV 4/5] END algorithm=auto, n_jobs=-1, n_neighbors=5, p=2, weights=uniform;, score=0.943 total time=   0.0s\n",
      "[CV 5/5] END algorithm=auto, n_jobs=-1, n_neighbors=5, p=2, weights=uniform;, score=0.934 total time=   0.0s\n",
      "[CV 1/5] END algorithm=auto, n_jobs=-1, n_neighbors=5, p=2, weights=distance;, score=0.926 total time=   0.0s\n",
      "[CV 2/5] END algorithm=auto, n_jobs=-1, n_neighbors=5, p=2, weights=distance;, score=0.926 total time=   0.0s\n",
      "[CV 3/5] END algorithm=auto, n_jobs=-1, n_neighbors=5, p=2, weights=distance;, score=0.929 total time=   0.0s\n",
      "[CV 4/5] END algorithm=auto, n_jobs=-1, n_neighbors=5, p=2, weights=distance;, score=0.938 total time=   0.0s\n",
      "[CV 5/5] END algorithm=auto, n_jobs=-1, n_neighbors=5, p=2, weights=distance;, score=0.932 total time=   0.0s\n",
      "[CV 1/5] END algorithm=auto, n_jobs=-1, n_neighbors=10, p=1, weights=uniform;, score=0.933 total time=   0.0s\n",
      "[CV 2/5] END algorithm=auto, n_jobs=-1, n_neighbors=10, p=1, weights=uniform;, score=0.934 total time=   0.0s\n",
      "[CV 3/5] END algorithm=auto, n_jobs=-1, n_neighbors=10, p=1, weights=uniform;, score=0.934 total time=   0.0s\n",
      "[CV 4/5] END algorithm=auto, n_jobs=-1, n_neighbors=10, p=1, weights=uniform;, score=0.943 total time=   0.0s\n",
      "[CV 5/5] END algorithm=auto, n_jobs=-1, n_neighbors=10, p=1, weights=uniform;, score=0.942 total time=   0.0s\n",
      "[CV 1/5] END algorithm=auto, n_jobs=-1, n_neighbors=10, p=1, weights=distance;, score=0.934 total time=   0.0s\n",
      "[CV 2/5] END algorithm=auto, n_jobs=-1, n_neighbors=10, p=1, weights=distance;, score=0.931 total time=   0.0s\n",
      "[CV 3/5] END algorithm=auto, n_jobs=-1, n_neighbors=10, p=1, weights=distance;, score=0.937 total time=   0.0s\n",
      "[CV 4/5] END algorithm=auto, n_jobs=-1, n_neighbors=10, p=1, weights=distance;, score=0.940 total time=   0.0s\n",
      "[CV 5/5] END algorithm=auto, n_jobs=-1, n_neighbors=10, p=1, weights=distance;, score=0.940 total time=   0.0s\n",
      "[CV 1/5] END algorithm=auto, n_jobs=-1, n_neighbors=10, p=2, weights=uniform;, score=0.931 total time=   0.0s\n",
      "[CV 2/5] END algorithm=auto, n_jobs=-1, n_neighbors=10, p=2, weights=uniform;, score=0.937 total time=   0.0s\n",
      "[CV 3/5] END algorithm=auto, n_jobs=-1, n_neighbors=10, p=2, weights=uniform;, score=0.939 total time=   0.0s\n",
      "[CV 4/5] END algorithm=auto, n_jobs=-1, n_neighbors=10, p=2, weights=uniform;, score=0.943 total time=   0.0s\n",
      "[CV 5/5] END algorithm=auto, n_jobs=-1, n_neighbors=10, p=2, weights=uniform;, score=0.943 total time=   0.0s\n",
      "[CV 1/5] END algorithm=auto, n_jobs=-1, n_neighbors=10, p=2, weights=distance;, score=0.934 total time=   0.0s\n",
      "[CV 2/5] END algorithm=auto, n_jobs=-1, n_neighbors=10, p=2, weights=distance;, score=0.931 total time=   0.0s\n",
      "[CV 3/5] END algorithm=auto, n_jobs=-1, n_neighbors=10, p=2, weights=distance;, score=0.938 total time=   0.0s\n",
      "[CV 4/5] END algorithm=auto, n_jobs=-1, n_neighbors=10, p=2, weights=distance;, score=0.941 total time=   0.0s\n",
      "[CV 5/5] END algorithm=auto, n_jobs=-1, n_neighbors=10, p=2, weights=distance;, score=0.943 total time=   0.0s\n",
      "[CV 1/5] END algorithm=auto, n_jobs=-1, n_neighbors=15, p=1, weights=uniform;, score=0.936 total time=   0.0s\n",
      "[CV 2/5] END algorithm=auto, n_jobs=-1, n_neighbors=15, p=1, weights=uniform;, score=0.932 total time=   0.0s\n",
      "[CV 3/5] END algorithm=auto, n_jobs=-1, n_neighbors=15, p=1, weights=uniform;, score=0.938 total time=   0.0s\n",
      "[CV 4/5] END algorithm=auto, n_jobs=-1, n_neighbors=15, p=1, weights=uniform;, score=0.946 total time=   0.0s\n",
      "[CV 5/5] END algorithm=auto, n_jobs=-1, n_neighbors=15, p=1, weights=uniform;, score=0.943 total time=   0.0s\n",
      "[CV 1/5] END algorithm=auto, n_jobs=-1, n_neighbors=15, p=1, weights=distance;, score=0.936 total time=   0.0s\n",
      "[CV 2/5] END algorithm=auto, n_jobs=-1, n_neighbors=15, p=1, weights=distance;, score=0.933 total time=   0.0s\n",
      "[CV 3/5] END algorithm=auto, n_jobs=-1, n_neighbors=15, p=1, weights=distance;, score=0.938 total time=   0.0s\n",
      "[CV 4/5] END algorithm=auto, n_jobs=-1, n_neighbors=15, p=1, weights=distance;, score=0.941 total time=   0.0s\n",
      "[CV 5/5] END algorithm=auto, n_jobs=-1, n_neighbors=15, p=1, weights=distance;, score=0.944 total time=   0.0s\n",
      "[CV 1/5] END algorithm=auto, n_jobs=-1, n_neighbors=15, p=2, weights=uniform;, score=0.934 total time=   0.0s\n",
      "[CV 2/5] END algorithm=auto, n_jobs=-1, n_neighbors=15, p=2, weights=uniform;, score=0.931 total time=   0.0s\n",
      "[CV 3/5] END algorithm=auto, n_jobs=-1, n_neighbors=15, p=2, weights=uniform;, score=0.939 total time=   0.0s\n",
      "[CV 4/5] END algorithm=auto, n_jobs=-1, n_neighbors=15, p=2, weights=uniform;, score=0.945 total time=   0.0s\n",
      "[CV 5/5] END algorithm=auto, n_jobs=-1, n_neighbors=15, p=2, weights=uniform;, score=0.941 total time=   0.0s\n",
      "[CV 1/5] END algorithm=auto, n_jobs=-1, n_neighbors=15, p=2, weights=distance;, score=0.937 total time=   0.0s\n",
      "[CV 2/5] END algorithm=auto, n_jobs=-1, n_neighbors=15, p=2, weights=distance;, score=0.933 total time=   0.0s\n",
      "[CV 3/5] END algorithm=auto, n_jobs=-1, n_neighbors=15, p=2, weights=distance;, score=0.938 total time=   0.0s\n",
      "[CV 4/5] END algorithm=auto, n_jobs=-1, n_neighbors=15, p=2, weights=distance;, score=0.941 total time=   0.0s\n",
      "[CV 5/5] END algorithm=auto, n_jobs=-1, n_neighbors=15, p=2, weights=distance;, score=0.942 total time=   0.0s\n"
     ]
    },
    {
     "data": {
      "text/html": [
       "<style>#sk-container-id-2 {color: black;}#sk-container-id-2 pre{padding: 0;}#sk-container-id-2 div.sk-toggleable {background-color: white;}#sk-container-id-2 label.sk-toggleable__label {cursor: pointer;display: block;width: 100%;margin-bottom: 0;padding: 0.3em;box-sizing: border-box;text-align: center;}#sk-container-id-2 label.sk-toggleable__label-arrow:before {content: \"▸\";float: left;margin-right: 0.25em;color: #696969;}#sk-container-id-2 label.sk-toggleable__label-arrow:hover:before {color: black;}#sk-container-id-2 div.sk-estimator:hover label.sk-toggleable__label-arrow:before {color: black;}#sk-container-id-2 div.sk-toggleable__content {max-height: 0;max-width: 0;overflow: hidden;text-align: left;background-color: #f0f8ff;}#sk-container-id-2 div.sk-toggleable__content pre {margin: 0.2em;color: black;border-radius: 0.25em;background-color: #f0f8ff;}#sk-container-id-2 input.sk-toggleable__control:checked~div.sk-toggleable__content {max-height: 200px;max-width: 100%;overflow: auto;}#sk-container-id-2 input.sk-toggleable__control:checked~label.sk-toggleable__label-arrow:before {content: \"▾\";}#sk-container-id-2 div.sk-estimator input.sk-toggleable__control:checked~label.sk-toggleable__label {background-color: #d4ebff;}#sk-container-id-2 div.sk-label input.sk-toggleable__control:checked~label.sk-toggleable__label {background-color: #d4ebff;}#sk-container-id-2 input.sk-hidden--visually {border: 0;clip: rect(1px 1px 1px 1px);clip: rect(1px, 1px, 1px, 1px);height: 1px;margin: -1px;overflow: hidden;padding: 0;position: absolute;width: 1px;}#sk-container-id-2 div.sk-estimator {font-family: monospace;background-color: #f0f8ff;border: 1px dotted black;border-radius: 0.25em;box-sizing: border-box;margin-bottom: 0.5em;}#sk-container-id-2 div.sk-estimator:hover {background-color: #d4ebff;}#sk-container-id-2 div.sk-parallel-item::after {content: \"\";width: 100%;border-bottom: 1px solid gray;flex-grow: 1;}#sk-container-id-2 div.sk-label:hover label.sk-toggleable__label {background-color: #d4ebff;}#sk-container-id-2 div.sk-serial::before {content: \"\";position: absolute;border-left: 1px solid gray;box-sizing: border-box;top: 0;bottom: 0;left: 50%;z-index: 0;}#sk-container-id-2 div.sk-serial {display: flex;flex-direction: column;align-items: center;background-color: white;padding-right: 0.2em;padding-left: 0.2em;position: relative;}#sk-container-id-2 div.sk-item {position: relative;z-index: 1;}#sk-container-id-2 div.sk-parallel {display: flex;align-items: stretch;justify-content: center;background-color: white;position: relative;}#sk-container-id-2 div.sk-item::before, #sk-container-id-2 div.sk-parallel-item::before {content: \"\";position: absolute;border-left: 1px solid gray;box-sizing: border-box;top: 0;bottom: 0;left: 50%;z-index: -1;}#sk-container-id-2 div.sk-parallel-item {display: flex;flex-direction: column;z-index: 1;position: relative;background-color: white;}#sk-container-id-2 div.sk-parallel-item:first-child::after {align-self: flex-end;width: 50%;}#sk-container-id-2 div.sk-parallel-item:last-child::after {align-self: flex-start;width: 50%;}#sk-container-id-2 div.sk-parallel-item:only-child::after {width: 0;}#sk-container-id-2 div.sk-dashed-wrapped {border: 1px dashed gray;margin: 0 0.4em 0.5em 0.4em;box-sizing: border-box;padding-bottom: 0.4em;background-color: white;}#sk-container-id-2 div.sk-label label {font-family: monospace;font-weight: bold;display: inline-block;line-height: 1.2em;}#sk-container-id-2 div.sk-label-container {text-align: center;}#sk-container-id-2 div.sk-container {/* jupyter's `normalize.less` sets `[hidden] { display: none; }` but bootstrap.min.css set `[hidden] { display: none !important; }` so we also need the `!important` here to be able to override the default hidden behavior on the sphinx rendered scikit-learn.org. See: https://github.com/scikit-learn/scikit-learn/issues/21755 */display: inline-block !important;position: relative;}#sk-container-id-2 div.sk-text-repr-fallback {display: none;}</style><div id=\"sk-container-id-2\" class=\"sk-top-container\"><div class=\"sk-text-repr-fallback\"><pre>GridSearchCV(cv=5, estimator=KNeighborsClassifier(),\n",
       "             param_grid={&#x27;algorithm&#x27;: [&#x27;auto&#x27;], &#x27;n_jobs&#x27;: [1, 2, -1],\n",
       "                         &#x27;n_neighbors&#x27;: [5, 10, 15], &#x27;p&#x27;: [1, 2],\n",
       "                         &#x27;weights&#x27;: [&#x27;uniform&#x27;, &#x27;distance&#x27;]},\n",
       "             verbose=3)</pre><b>In a Jupyter environment, please rerun this cell to show the HTML representation or trust the notebook. <br />On GitHub, the HTML representation is unable to render, please try loading this page with nbviewer.org.</b></div><div class=\"sk-container\" hidden><div class=\"sk-item sk-dashed-wrapped\"><div class=\"sk-label-container\"><div class=\"sk-label sk-toggleable\"><input class=\"sk-toggleable__control sk-hidden--visually\" id=\"sk-estimator-id-2\" type=\"checkbox\" ><label for=\"sk-estimator-id-2\" class=\"sk-toggleable__label sk-toggleable__label-arrow\">GridSearchCV</label><div class=\"sk-toggleable__content\"><pre>GridSearchCV(cv=5, estimator=KNeighborsClassifier(),\n",
       "             param_grid={&#x27;algorithm&#x27;: [&#x27;auto&#x27;], &#x27;n_jobs&#x27;: [1, 2, -1],\n",
       "                         &#x27;n_neighbors&#x27;: [5, 10, 15], &#x27;p&#x27;: [1, 2],\n",
       "                         &#x27;weights&#x27;: [&#x27;uniform&#x27;, &#x27;distance&#x27;]},\n",
       "             verbose=3)</pre></div></div></div><div class=\"sk-parallel\"><div class=\"sk-parallel-item\"><div class=\"sk-item\"><div class=\"sk-label-container\"><div class=\"sk-label sk-toggleable\"><input class=\"sk-toggleable__control sk-hidden--visually\" id=\"sk-estimator-id-3\" type=\"checkbox\" ><label for=\"sk-estimator-id-3\" class=\"sk-toggleable__label sk-toggleable__label-arrow\">estimator: KNeighborsClassifier</label><div class=\"sk-toggleable__content\"><pre>KNeighborsClassifier()</pre></div></div></div><div class=\"sk-serial\"><div class=\"sk-item\"><div class=\"sk-estimator sk-toggleable\"><input class=\"sk-toggleable__control sk-hidden--visually\" id=\"sk-estimator-id-4\" type=\"checkbox\" ><label for=\"sk-estimator-id-4\" class=\"sk-toggleable__label sk-toggleable__label-arrow\">KNeighborsClassifier</label><div class=\"sk-toggleable__content\"><pre>KNeighborsClassifier()</pre></div></div></div></div></div></div></div></div></div></div>"
      ],
      "text/plain": [
       "GridSearchCV(cv=5, estimator=KNeighborsClassifier(),\n",
       "             param_grid={'algorithm': ['auto'], 'n_jobs': [1, 2, -1],\n",
       "                         'n_neighbors': [5, 10, 15], 'p': [1, 2],\n",
       "                         'weights': ['uniform', 'distance']},\n",
       "             verbose=3)"
      ]
     },
     "execution_count": 31,
     "metadata": {},
     "output_type": "execute_result"
    }
   ],
   "source": [
    "clf.fit(x_train,y_train)"
   ]
  },
  {
   "cell_type": "code",
   "execution_count": 32,
   "metadata": {},
   "outputs": [
    {
     "data": {
      "text/plain": [
       "{'algorithm': 'auto',\n",
       " 'n_jobs': 1,\n",
       " 'n_neighbors': 15,\n",
       " 'p': 1,\n",
       " 'weights': 'uniform'}"
      ]
     },
     "execution_count": 32,
     "metadata": {},
     "output_type": "execute_result"
    }
   ],
   "source": [
    "clf.best_params_"
   ]
  },
  {
   "cell_type": "code",
   "execution_count": 33,
   "metadata": {},
   "outputs": [],
   "source": [
    "classifier = KNeighborsClassifier(algorithm='auto',n_jobs=1,n_neighbors=15,p=1,weights='uniform')"
   ]
  },
  {
   "cell_type": "code",
   "execution_count": 34,
   "metadata": {},
   "outputs": [
    {
     "data": {
      "text/html": [
       "<style>#sk-container-id-3 {color: black;}#sk-container-id-3 pre{padding: 0;}#sk-container-id-3 div.sk-toggleable {background-color: white;}#sk-container-id-3 label.sk-toggleable__label {cursor: pointer;display: block;width: 100%;margin-bottom: 0;padding: 0.3em;box-sizing: border-box;text-align: center;}#sk-container-id-3 label.sk-toggleable__label-arrow:before {content: \"▸\";float: left;margin-right: 0.25em;color: #696969;}#sk-container-id-3 label.sk-toggleable__label-arrow:hover:before {color: black;}#sk-container-id-3 div.sk-estimator:hover label.sk-toggleable__label-arrow:before {color: black;}#sk-container-id-3 div.sk-toggleable__content {max-height: 0;max-width: 0;overflow: hidden;text-align: left;background-color: #f0f8ff;}#sk-container-id-3 div.sk-toggleable__content pre {margin: 0.2em;color: black;border-radius: 0.25em;background-color: #f0f8ff;}#sk-container-id-3 input.sk-toggleable__control:checked~div.sk-toggleable__content {max-height: 200px;max-width: 100%;overflow: auto;}#sk-container-id-3 input.sk-toggleable__control:checked~label.sk-toggleable__label-arrow:before {content: \"▾\";}#sk-container-id-3 div.sk-estimator input.sk-toggleable__control:checked~label.sk-toggleable__label {background-color: #d4ebff;}#sk-container-id-3 div.sk-label input.sk-toggleable__control:checked~label.sk-toggleable__label {background-color: #d4ebff;}#sk-container-id-3 input.sk-hidden--visually {border: 0;clip: rect(1px 1px 1px 1px);clip: rect(1px, 1px, 1px, 1px);height: 1px;margin: -1px;overflow: hidden;padding: 0;position: absolute;width: 1px;}#sk-container-id-3 div.sk-estimator {font-family: monospace;background-color: #f0f8ff;border: 1px dotted black;border-radius: 0.25em;box-sizing: border-box;margin-bottom: 0.5em;}#sk-container-id-3 div.sk-estimator:hover {background-color: #d4ebff;}#sk-container-id-3 div.sk-parallel-item::after {content: \"\";width: 100%;border-bottom: 1px solid gray;flex-grow: 1;}#sk-container-id-3 div.sk-label:hover label.sk-toggleable__label {background-color: #d4ebff;}#sk-container-id-3 div.sk-serial::before {content: \"\";position: absolute;border-left: 1px solid gray;box-sizing: border-box;top: 0;bottom: 0;left: 50%;z-index: 0;}#sk-container-id-3 div.sk-serial {display: flex;flex-direction: column;align-items: center;background-color: white;padding-right: 0.2em;padding-left: 0.2em;position: relative;}#sk-container-id-3 div.sk-item {position: relative;z-index: 1;}#sk-container-id-3 div.sk-parallel {display: flex;align-items: stretch;justify-content: center;background-color: white;position: relative;}#sk-container-id-3 div.sk-item::before, #sk-container-id-3 div.sk-parallel-item::before {content: \"\";position: absolute;border-left: 1px solid gray;box-sizing: border-box;top: 0;bottom: 0;left: 50%;z-index: -1;}#sk-container-id-3 div.sk-parallel-item {display: flex;flex-direction: column;z-index: 1;position: relative;background-color: white;}#sk-container-id-3 div.sk-parallel-item:first-child::after {align-self: flex-end;width: 50%;}#sk-container-id-3 div.sk-parallel-item:last-child::after {align-self: flex-start;width: 50%;}#sk-container-id-3 div.sk-parallel-item:only-child::after {width: 0;}#sk-container-id-3 div.sk-dashed-wrapped {border: 1px dashed gray;margin: 0 0.4em 0.5em 0.4em;box-sizing: border-box;padding-bottom: 0.4em;background-color: white;}#sk-container-id-3 div.sk-label label {font-family: monospace;font-weight: bold;display: inline-block;line-height: 1.2em;}#sk-container-id-3 div.sk-label-container {text-align: center;}#sk-container-id-3 div.sk-container {/* jupyter's `normalize.less` sets `[hidden] { display: none; }` but bootstrap.min.css set `[hidden] { display: none !important; }` so we also need the `!important` here to be able to override the default hidden behavior on the sphinx rendered scikit-learn.org. See: https://github.com/scikit-learn/scikit-learn/issues/21755 */display: inline-block !important;position: relative;}#sk-container-id-3 div.sk-text-repr-fallback {display: none;}</style><div id=\"sk-container-id-3\" class=\"sk-top-container\"><div class=\"sk-text-repr-fallback\"><pre>KNeighborsClassifier(n_jobs=1, n_neighbors=15, p=1)</pre><b>In a Jupyter environment, please rerun this cell to show the HTML representation or trust the notebook. <br />On GitHub, the HTML representation is unable to render, please try loading this page with nbviewer.org.</b></div><div class=\"sk-container\" hidden><div class=\"sk-item\"><div class=\"sk-estimator sk-toggleable\"><input class=\"sk-toggleable__control sk-hidden--visually\" id=\"sk-estimator-id-5\" type=\"checkbox\" checked><label for=\"sk-estimator-id-5\" class=\"sk-toggleable__label sk-toggleable__label-arrow\">KNeighborsClassifier</label><div class=\"sk-toggleable__content\"><pre>KNeighborsClassifier(n_jobs=1, n_neighbors=15, p=1)</pre></div></div></div></div></div>"
      ],
      "text/plain": [
       "KNeighborsClassifier(n_jobs=1, n_neighbors=15, p=1)"
      ]
     },
     "execution_count": 34,
     "metadata": {},
     "output_type": "execute_result"
    }
   ],
   "source": [
    "classifier.fit(x_train,y_train)"
   ]
  },
  {
   "cell_type": "code",
   "execution_count": 35,
   "metadata": {},
   "outputs": [],
   "source": [
    "y_pred = classifier.predict(x_test)"
   ]
  },
  {
   "cell_type": "code",
   "execution_count": 36,
   "metadata": {},
   "outputs": [
    {
     "data": {
      "text/plain": [
       "array([[935,  78],\n",
       "       [ 57, 930]], dtype=int64)"
      ]
     },
     "execution_count": 36,
     "metadata": {},
     "output_type": "execute_result"
    }
   ],
   "source": [
    "confusion_matrix(y_test,y_pred)"
   ]
  },
  {
   "cell_type": "code",
   "execution_count": 37,
   "metadata": {},
   "outputs": [
    {
     "data": {
      "text/plain": [
       "0.9325"
      ]
     },
     "execution_count": 37,
     "metadata": {},
     "output_type": "execute_result"
    }
   ],
   "source": [
    "accuracy_score(y_pred,y_test)"
   ]
  },
  {
   "cell_type": "code",
   "execution_count": null,
   "metadata": {},
   "outputs": [],
   "source": []
  }
 ],
 "metadata": {
  "kernelspec": {
   "display_name": "Python 3",
   "language": "python",
   "name": "python3"
  },
  "language_info": {
   "codemirror_mode": {
    "name": "ipython",
    "version": 3
   },
   "file_extension": ".py",
   "mimetype": "text/x-python",
   "name": "python",
   "nbconvert_exporter": "python",
   "pygments_lexer": "ipython3",
   "version": "3.11.4"
  }
 },
 "nbformat": 4,
 "nbformat_minor": 2
}
