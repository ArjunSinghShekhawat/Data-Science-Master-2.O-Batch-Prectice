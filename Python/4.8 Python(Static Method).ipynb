{
 "cells": [
  {
   "cell_type": "code",
   "execution_count": 1,
   "metadata": {},
   "outputs": [],
   "source": [
    "#Static method"
   ]
  },
  {
   "cell_type": "code",
   "execution_count": 18,
   "metadata": {},
   "outputs": [],
   "source": [
    "class pwskills:\n",
    "\n",
    "    @staticmethod\n",
    "    def mentor(mentor_list):\n",
    "        print(mentor_list)\n",
    "    \n",
    "    @staticmethod\n",
    "    def courses(courses_list):\n",
    "        print(courses_list)\n",
    "        pwskills.mentor(['krish','sudh','love babber'])\n",
    "    \n",
    "    @classmethod\n",
    "    def mentor_email(cls,email_list):\n",
    "        print(email_list)\n",
    "        cls.courses(['data science','web dev','cloud computing'])\n",
    "    \n",
    "    def student_email(self,student_email_list):\n",
    "        print(student_email_list)\n",
    "        pwskills.mentor_email(['krish@gmail.com','sudh@gmail.com','lovebabber@gmail.com'])"
   ]
  },
  {
   "cell_type": "code",
   "execution_count": 19,
   "metadata": {},
   "outputs": [
    {
     "name": "stdout",
     "output_type": "stream",
     "text": [
      "['krish', 'sudh', 'love babber']\n"
     ]
    }
   ],
   "source": [
    "pwskills.mentor(['krish','sudh','love babber'])"
   ]
  },
  {
   "cell_type": "code",
   "execution_count": 20,
   "metadata": {},
   "outputs": [
    {
     "name": "stdout",
     "output_type": "stream",
     "text": [
      "['krish@gmail.com', 'sudh@gmail.com', 'lovebabber@gmail.com']\n",
      "['data science', 'web dev', 'cloud computing']\n",
      "['krish', 'sudh', 'love babber']\n"
     ]
    }
   ],
   "source": [
    "pwskills.mentor_email(['krish@gmail.com','sudh@gmail.com','lovebabber@gmail.com'])"
   ]
  },
  {
   "cell_type": "code",
   "execution_count": 21,
   "metadata": {},
   "outputs": [
    {
     "name": "stdout",
     "output_type": "stream",
     "text": [
      "['data science', 'web dev', 'cloud computing']\n",
      "['krish', 'sudh', 'love babber']\n"
     ]
    }
   ],
   "source": [
    "pwskills.courses(['data science','web dev','cloud computing'])"
   ]
  },
  {
   "cell_type": "code",
   "execution_count": 22,
   "metadata": {},
   "outputs": [
    {
     "name": "stdout",
     "output_type": "stream",
     "text": [
      "['krish@gmail.com', 'sudh@gmail.com', 'lovebabber@gmail.com']\n",
      "['data science', 'web dev', 'cloud computing']\n",
      "['krish', 'sudh', 'love babber']\n"
     ]
    }
   ],
   "source": [
    "pwskills.mentor_email(['krish@gmail.com','sudh@gmail.com','lovebabber@gmail.com'])"
   ]
  },
  {
   "cell_type": "code",
   "execution_count": 23,
   "metadata": {},
   "outputs": [],
   "source": [
    "obj = pwskills()"
   ]
  },
  {
   "cell_type": "code",
   "execution_count": 25,
   "metadata": {},
   "outputs": [
    {
     "name": "stdout",
     "output_type": "stream",
     "text": [
      "['arjun@gmail.com', 'anshu@gmail.com', 'manish@gmail.com']\n",
      "['krish@gmail.com', 'sudh@gmail.com', 'lovebabber@gmail.com']\n",
      "['data science', 'web dev', 'cloud computing']\n",
      "['krish', 'sudh', 'love babber']\n"
     ]
    }
   ],
   "source": [
    "obj.student_email(['arjun@gmail.com','anshu@gmail.com','manish@gmail.com'])"
   ]
  },
  {
   "cell_type": "code",
   "execution_count": null,
   "metadata": {},
   "outputs": [],
   "source": []
  },
  {
   "cell_type": "code",
   "execution_count": null,
   "metadata": {},
   "outputs": [],
   "source": []
  },
  {
   "cell_type": "code",
   "execution_count": null,
   "metadata": {},
   "outputs": [],
   "source": []
  },
  {
   "cell_type": "code",
   "execution_count": null,
   "metadata": {},
   "outputs": [],
   "source": []
  },
  {
   "cell_type": "code",
   "execution_count": null,
   "metadata": {},
   "outputs": [],
   "source": []
  },
  {
   "cell_type": "code",
   "execution_count": null,
   "metadata": {},
   "outputs": [],
   "source": []
  },
  {
   "cell_type": "code",
   "execution_count": null,
   "metadata": {},
   "outputs": [],
   "source": []
  }
 ],
 "metadata": {
  "kernelspec": {
   "display_name": "Python 3",
   "language": "python",
   "name": "python3"
  },
  "language_info": {
   "codemirror_mode": {
    "name": "ipython",
    "version": 3
   },
   "file_extension": ".py",
   "mimetype": "text/x-python",
   "name": "python",
   "nbconvert_exporter": "python",
   "pygments_lexer": "ipython3",
   "version": "3.11.4"
  }
 },
 "nbformat": 4,
 "nbformat_minor": 2
}
