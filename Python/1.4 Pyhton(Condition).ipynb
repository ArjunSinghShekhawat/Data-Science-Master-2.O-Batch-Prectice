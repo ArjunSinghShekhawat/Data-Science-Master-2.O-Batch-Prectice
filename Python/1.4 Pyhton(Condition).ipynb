{
 "cells": [
  {
   "cell_type": "code",
   "execution_count": 1,
   "metadata": {},
   "outputs": [],
   "source": [
    "age = int(input(\"Enter yuor age :\"))"
   ]
  },
  {
   "cell_type": "code",
   "execution_count": 2,
   "metadata": {},
   "outputs": [
    {
     "data": {
      "text/plain": [
       "21"
      ]
     },
     "execution_count": 2,
     "metadata": {},
     "output_type": "execute_result"
    }
   ],
   "source": [
    "age"
   ]
  },
  {
   "cell_type": "code",
   "execution_count": 3,
   "metadata": {},
   "outputs": [
    {
     "name": "stdout",
     "output_type": "stream",
     "text": [
      "You are adult :\n"
     ]
    }
   ],
   "source": [
    "if age>=18:\n",
    "    print(\"You are adult :\")\n",
    "else:\n",
    "    print(\"You are not adult:\")"
   ]
  },
  {
   "cell_type": "code",
   "execution_count": 4,
   "metadata": {},
   "outputs": [
    {
     "name": "stdout",
     "output_type": "stream",
     "text": [
      "Grade C\n"
     ]
    }
   ],
   "source": [
    "marks = float(input(\"Enter your marks :\"))\n",
    "\n",
    "if marks>=90:\n",
    "    print(\"Grade A++\")\n",
    "elif marks>=85 and marks<90:\n",
    "    print(\"Grade A\")\n",
    "elif marks>=80 and marks<85:\n",
    "    print('Grade B')\n",
    "elif marks>=70 and marks<80:\n",
    "    print('Grade C')\n",
    "elif marks>=60 and marks<70:\n",
    "    print(\"Grade D\")\n",
    "elif marks>50 and marks<60:\n",
    "    print(\"Grade E\")\n",
    "else:\n",
    "    print(\"Fail\")"
   ]
  },
  {
   "cell_type": "code",
   "execution_count": null,
   "metadata": {},
   "outputs": [],
   "source": []
  }
 ],
 "metadata": {
  "kernelspec": {
   "display_name": "Python 3",
   "language": "python",
   "name": "python3"
  },
  "language_info": {
   "codemirror_mode": {
    "name": "ipython",
    "version": 3
   },
   "file_extension": ".py",
   "mimetype": "text/x-python",
   "name": "python",
   "nbconvert_exporter": "python",
   "pygments_lexer": "ipython3",
   "version": "3.11.4"
  }
 },
 "nbformat": 4,
 "nbformat_minor": 2
}
