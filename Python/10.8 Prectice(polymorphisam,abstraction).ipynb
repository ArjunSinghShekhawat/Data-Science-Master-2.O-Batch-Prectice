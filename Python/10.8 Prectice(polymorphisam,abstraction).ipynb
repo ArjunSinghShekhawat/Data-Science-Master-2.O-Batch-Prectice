{
 "cells": [
  {
   "cell_type": "code",
   "execution_count": 1,
   "metadata": {},
   "outputs": [],
   "source": [
    "#polymorphisam = one things and multiple form.\n",
    "#abstraction is used to create shcema of the project"
   ]
  },
  {
   "cell_type": "code",
   "execution_count": 2,
   "metadata": {},
   "outputs": [],
   "source": [
    "class data_science:\n",
    "    def syllabus(self):\n",
    "        print('Data science syllabus')\n",
    "class web_dev:\n",
    "    def syllabus(self):\n",
    "        print('Web development syllabus')\n",
    "class java_dev:\n",
    "    def syllabus(self):\n",
    "        print(\"Java development syllabus\")\n"
   ]
  },
  {
   "cell_type": "code",
   "execution_count": 3,
   "metadata": {},
   "outputs": [],
   "source": [
    "data_science = data_science()\n",
    "web_dev = web_dev()\n",
    "java_dev = java_dev()"
   ]
  },
  {
   "cell_type": "code",
   "execution_count": 4,
   "metadata": {},
   "outputs": [],
   "source": [
    "obj_list = [data_science,web_dev,java_dev]"
   ]
  },
  {
   "cell_type": "code",
   "execution_count": 5,
   "metadata": {},
   "outputs": [],
   "source": [
    "def course_parser(obj_list):\n",
    "    for i in obj_list:\n",
    "        i.syllabus()"
   ]
  },
  {
   "cell_type": "code",
   "execution_count": 6,
   "metadata": {},
   "outputs": [
    {
     "name": "stdout",
     "output_type": "stream",
     "text": [
      "Data science syllabus\n",
      "Web development syllabus\n",
      "Java development syllabus\n"
     ]
    }
   ],
   "source": [
    "course_parser(obj_list)"
   ]
  },
  {
   "cell_type": "code",
   "execution_count": 7,
   "metadata": {},
   "outputs": [],
   "source": [
    "import abc"
   ]
  },
  {
   "cell_type": "code",
   "execution_count": 11,
   "metadata": {},
   "outputs": [],
   "source": [
    "class codehelp:\n",
    "    abc.abstractmethod\n",
    "    def assignment(self):\n",
    "        pass\n",
    "\n",
    "    abc.abstractmethod\n",
    "    def score(self):\n",
    "        pass\n",
    "\n",
    "    abc.abstractmethod\n",
    "    def marks(self):\n",
    "        pass\n",
    "\n",
    "class arjun(codehelp):\n",
    "    def assignment(self):\n",
    "        print(\"20% assignment submit\")\n",
    "    \n",
    "    def score(self):\n",
    "        print(\"Score 76.54 marks\")\n",
    "\n",
    "class manjeet(codehelp):\n",
    "    def marks(self):\n",
    "        print('marks 89')\n",
    "    \n",
    "    def assignment(self):\n",
    "        print('50% assignment submit')"
   ]
  },
  {
   "cell_type": "code",
   "execution_count": 12,
   "metadata": {},
   "outputs": [],
   "source": [
    "obj = manjeet()"
   ]
  },
  {
   "cell_type": "code",
   "execution_count": 13,
   "metadata": {},
   "outputs": [
    {
     "name": "stdout",
     "output_type": "stream",
     "text": [
      "50% assignment submit\n"
     ]
    }
   ],
   "source": [
    "obj.assignment()"
   ]
  },
  {
   "cell_type": "code",
   "execution_count": 14,
   "metadata": {},
   "outputs": [],
   "source": [
    "obj1 = arjun()"
   ]
  },
  {
   "cell_type": "code",
   "execution_count": 15,
   "metadata": {},
   "outputs": [
    {
     "name": "stdout",
     "output_type": "stream",
     "text": [
      "Score 76.54 marks\n"
     ]
    }
   ],
   "source": [
    "obj1.score()"
   ]
  },
  {
   "cell_type": "code",
   "execution_count": 16,
   "metadata": {},
   "outputs": [
    {
     "name": "stdout",
     "output_type": "stream",
     "text": [
      "20% assignment submit\n"
     ]
    }
   ],
   "source": [
    "obj1.assignment()"
   ]
  },
  {
   "cell_type": "code",
   "execution_count": null,
   "metadata": {},
   "outputs": [],
   "source": []
  }
 ],
 "metadata": {
  "kernelspec": {
   "display_name": "Python 3",
   "language": "python",
   "name": "python3"
  },
  "language_info": {
   "codemirror_mode": {
    "name": "ipython",
    "version": 3
   },
   "file_extension": ".py",
   "mimetype": "text/x-python",
   "name": "python",
   "nbconvert_exporter": "python",
   "pygments_lexer": "ipython3",
   "version": "3.11.4"
  }
 },
 "nbformat": 4,
 "nbformat_minor": 2
}
