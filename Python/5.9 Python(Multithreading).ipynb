{
 "cells": [
  {
   "cell_type": "code",
   "execution_count": 1,
   "metadata": {},
   "outputs": [],
   "source": [
    "#Multithreading"
   ]
  },
  {
   "cell_type": "code",
   "execution_count": 2,
   "metadata": {},
   "outputs": [],
   "source": [
    "import threading"
   ]
  },
  {
   "cell_type": "code",
   "execution_count": 10,
   "metadata": {},
   "outputs": [],
   "source": [
    "def test(i):\n",
    "    print('Hello',i)"
   ]
  },
  {
   "cell_type": "code",
   "execution_count": 11,
   "metadata": {},
   "outputs": [
    {
     "name": "stdout",
     "output_type": "stream",
     "text": [
      "Hello 0\n"
     ]
    }
   ],
   "source": [
    "test(00)"
   ]
  },
  {
   "cell_type": "code",
   "execution_count": 12,
   "metadata": {},
   "outputs": [],
   "source": [
    "thread = [threading.Thread(target=test,args=(i,)) for i in range(10)]"
   ]
  },
  {
   "cell_type": "code",
   "execution_count": 13,
   "metadata": {},
   "outputs": [
    {
     "name": "stdout",
     "output_type": "stream",
     "text": [
      "Hello 0\n",
      "Hello 1\n",
      "Hello 2\n",
      "Hello 3\n",
      "Hello 4\n",
      "Hello 5\n",
      "Hello 6\n",
      "Hello 7\n",
      "Hello 8\n",
      "Hello 9\n"
     ]
    }
   ],
   "source": [
    "for i in thread:\n",
    "    i.start()"
   ]
  },
  {
   "cell_type": "code",
   "execution_count": 15,
   "metadata": {},
   "outputs": [],
   "source": [
    "list = ['https://raw.githubusercontent.com/itsfoss/text-files/master/agatha.txt','https://raw.githubusercontent.com/itsfoss/text-files/master/sherlock.txt','https://raw.githubusercontent.com/itsfoss/text-files/master/sample_log_file.txt']"
   ]
  },
  {
   "cell_type": "code",
   "execution_count": 31,
   "metadata": {},
   "outputs": [],
   "source": [
    "import threading\n",
    "import urllib.request\n",
    "\n",
    "def file_download(url,filename):\n",
    "    urllib.request.urlretrieve(url,filename)"
   ]
  },
  {
   "cell_type": "code",
   "execution_count": 32,
   "metadata": {},
   "outputs": [],
   "source": [
    "url_list = ['https://raw.githubusercontent.com/itsfoss/text-files/master/agatha.txt','https://raw.githubusercontent.com/itsfoss/text-files/master/sherlock.txt','https://raw.githubusercontent.com/itsfoss/text-files/master/sample_log_file.txt']"
   ]
  },
  {
   "cell_type": "code",
   "execution_count": 33,
   "metadata": {},
   "outputs": [],
   "source": [
    "filename = ['data1.txt','data2.txt','data3.txt']"
   ]
  },
  {
   "cell_type": "code",
   "execution_count": 34,
   "metadata": {},
   "outputs": [],
   "source": [
    "d = [threading.Thread(target=file_download,args=(url_list[i],filename[i])) for i in range(len(filename))]"
   ]
  },
  {
   "cell_type": "code",
   "execution_count": 35,
   "metadata": {},
   "outputs": [],
   "source": [
    "for i in d:\n",
    "    i.start()"
   ]
  },
  {
   "cell_type": "code",
   "execution_count": 36,
   "metadata": {},
   "outputs": [],
   "source": [
    "import time"
   ]
  },
  {
   "cell_type": "code",
   "execution_count": 50,
   "metadata": {},
   "outputs": [],
   "source": [
    "def test(id):\n",
    "    for i in range(10):\n",
    "        print(\"id and i\",id,\" \",i,time.ctime())\n",
    "        time.sleep(2)"
   ]
  },
  {
   "cell_type": "code",
   "execution_count": null,
   "metadata": {},
   "outputs": [],
   "source": []
  },
  {
   "cell_type": "code",
   "execution_count": 51,
   "metadata": {},
   "outputs": [],
   "source": [
    "a = [threading.Thread(target=test,args=(i,)) for i in range(3)]"
   ]
  },
  {
   "cell_type": "code",
   "execution_count": 52,
   "metadata": {},
   "outputs": [
    {
     "name": "stdout",
     "output_type": "stream",
     "text": [
      "id and i 0   0 Sun Apr  7 12:30:21 2024\n",
      "id and i 1   0 Sun Apr  7 12:30:21 2024\n",
      "id and i 2   0 Sun Apr  7 12:30:21 2024\n"
     ]
    },
    {
     "name": "stdout",
     "output_type": "stream",
     "text": [
      "id and iid and i 1   3 Sun Apr  7 12:30:22 2024\n",
      "id and i 0   3 Sun Apr  7 12:30:22 2024\n",
      " 2   3 Sun Apr  7 12:30:22 2024\n",
      "id and i 0   1 Sun Apr  7 12:30:23 2024\n",
      "id and i 1   1 Sun Apr  7 12:30:23 2024\n",
      "id and i 2   1 Sun Apr  7 12:30:23 2024\n",
      "id and i 0   2 Sun Apr  7 12:30:25 2024\n",
      "id and i 1   2 Sun Apr  7 12:30:25 2024\n",
      "id and i 2   2 Sun Apr  7 12:30:25 2024\n",
      "id and i 0   3 Sun Apr  7 12:30:27 2024\n",
      "id and i 1   3 Sun Apr  7 12:30:27 2024\n",
      "id and i 2   3 Sun Apr  7 12:30:27 2024\n",
      "id and i 2   4 Sun Apr  7 12:30:27 2024\n",
      "id and i 0   4 Sun Apr  7 12:30:27 2024\n",
      "id and i 1   4 Sun Apr  7 12:30:27 2024\n",
      "id and i 0   4 Sun Apr  7 12:30:29 2024\n",
      "id and i 1   4 Sun Apr  7 12:30:29 2024\n",
      "id and i 2   4 Sun Apr  7 12:30:29 2024\n",
      "id and i 0   5 Sun Apr  7 12:30:31 2024\n",
      "id and i 1   5 Sun Apr  7 12:30:31 2024\n",
      "id and i 2   5 Sun Apr  7 12:30:31 2024\n",
      "id and i 2   5 Sun Apr  7 12:30:32 2024\n",
      "id and i 0   5 Sun Apr  7 12:30:32 2024\n",
      "id and i 1   5 Sun Apr  7 12:30:32 2024\n",
      "id and i 0   6 Sun Apr  7 12:30:33 2024\n",
      "id and i 1   6 Sun Apr  7 12:30:33 2024\n",
      "id and i 2   6 Sun Apr  7 12:30:33 2024\n",
      "id and i 0   7 Sun Apr  7 12:30:35 2024\n",
      "id and i 1   7 Sun Apr  7 12:30:35 2024\n",
      "id and i 2   7 Sun Apr  7 12:30:35 2024\n",
      "id and i 0   8 Sun Apr  7 12:30:37 2024\n",
      "id and i 1   8 Sun Apr  7 12:30:37 2024\n",
      "id and i 2   8 Sun Apr  7 12:30:37 2024\n",
      "id and i 2   6 Sun Apr  7 12:30:38 2024\n",
      "id and i 1   6 Sun Apr  7 12:30:38 2024\n",
      "id and i 0   6 Sun Apr  7 12:30:38 2024\n",
      "id and i 0   9 Sun Apr  7 12:30:39 2024\n",
      "id and i 2   9 Sun Apr  7 12:30:39 2024\n",
      "id and i 1   9 Sun Apr  7 12:30:39 2024\n",
      "id and i 2   7 Sun Apr  7 12:30:43 2024\n",
      "id and i 1   7 Sun Apr  7 12:30:43 2024\n",
      "id and i 0   7 Sun Apr  7 12:30:43 2024\n",
      "id and iid and i 2   8 Sun Apr  7 12:30:48 2024\n",
      " 1   8 Sun Apr  7 12:30:48 2024\n",
      "id and i 0   8 Sun Apr  7 12:30:48 2024\n",
      "id and i 2   9 Sun Apr  7 12:30:53 2024\n",
      "id and i 1   9 Sun Apr  7 12:30:53 2024\n",
      "id and i 0   9 Sun Apr  7 12:30:53 2024\n"
     ]
    }
   ],
   "source": [
    "for i in a:\n",
    "    i.start()"
   ]
  },
  {
   "cell_type": "code",
   "execution_count": null,
   "metadata": {},
   "outputs": [],
   "source": []
  },
  {
   "cell_type": "code",
   "execution_count": null,
   "metadata": {},
   "outputs": [],
   "source": []
  },
  {
   "cell_type": "code",
   "execution_count": null,
   "metadata": {},
   "outputs": [],
   "source": []
  }
 ],
 "metadata": {
  "kernelspec": {
   "display_name": "Python 3",
   "language": "python",
   "name": "python3"
  },
  "language_info": {
   "codemirror_mode": {
    "name": "ipython",
    "version": 3
   },
   "file_extension": ".py",
   "mimetype": "text/x-python",
   "name": "python",
   "nbconvert_exporter": "python",
   "pygments_lexer": "ipython3",
   "version": "3.11.4"
  }
 },
 "nbformat": 4,
 "nbformat_minor": 2
}
