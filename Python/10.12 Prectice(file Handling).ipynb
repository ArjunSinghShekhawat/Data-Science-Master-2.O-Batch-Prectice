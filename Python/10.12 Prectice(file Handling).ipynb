{
 "cells": [
  {
   "cell_type": "code",
   "execution_count": 1,
   "metadata": {},
   "outputs": [],
   "source": [
    "f = open('arjun.txt','w')\n",
    "f.write(\"I am arjun singh\")\n",
    "f.close()"
   ]
  },
  {
   "cell_type": "code",
   "execution_count": 2,
   "metadata": {},
   "outputs": [
    {
     "name": "stdout",
     "output_type": "stream",
     "text": [
      " Volume in drive E is New Volume\n",
      " Volume Serial Number is C067-76EC\n",
      "\n",
      " Directory of e:\\Pandas\\Python\n",
      "\n",
      "04/09/2024  07:03 PM    <DIR>          .\n",
      "04/09/2024  12:56 AM    <DIR>          ..\n",
      "04/01/2024  10:09 PM             6,245 1.1 Pyhton(variable).ipynb\n",
      "04/01/2024  10:13 PM             4,864 1.2 Python(Mutability and Immutability).ipynb\n",
      "04/01/2024  10:19 PM            11,629 1.3 Python(Operator).ipynb\n",
      "04/01/2024  10:25 PM             2,086 1.4 Pyhton(Condition).ipynb\n",
      "04/01/2024  10:31 PM             2,817 1.5 Pyhton(Loops).ipynb\n",
      "04/08/2024  10:36 PM            13,411 10.1 Prectice(string).ipynb\n",
      "04/09/2024  06:22 PM             8,145 10.10 Prectice(Property Method).ipynb\n",
      "04/09/2024  06:33 PM             6,597 10.11 Prectice(Decorator,and magic function).ipynb\n",
      "04/09/2024  07:02 PM                 0 10.12 Prectice(file Handling).ipynb\n",
      "04/08/2024  10:41 PM            19,816 10.2 Prectice(list).ipynb\n",
      "04/08/2024  10:43 PM             4,453 10.3 Prectice(tuple).ipynb\n",
      "04/08/2024  10:49 PM             8,057 10.4 Prectice(Set).ipynb\n",
      "04/08/2024  10:57 PM             8,186 10.5 prectice(Dictionary).ipynb\n",
      "04/08/2024  11:46 PM            13,951 10.6 Prectice(function).ipynb\n",
      "04/09/2024  12:19 AM            13,095 10.7 Prectice(class and object and inheritance,Encapsulation).ipynb\n",
      "04/09/2024  12:38 AM             4,182 10.8 Prectice(polymorphisam,abstraction).ipynb\n",
      "04/09/2024  06:14 PM            17,778 10.9 Prectice(class and static method).ipynb\n",
      "04/01/2024  10:53 PM            12,407 2.1 Python(String Slicing).ipynb\n",
      "04/01/2024  11:47 PM            17,352 2.2 Python(List,Tuple,dict).ipynb\n",
      "04/04/2024  08:04 PM             9,837 2.3 python(dictionary).ipynb\n",
      "04/05/2024  04:37 PM            10,791 3.1 Python(function).ipynb\n",
      "04/05/2024  04:58 PM             4,149 3.2 Python(Generator Function).ipynb\n",
      "04/05/2024  05:04 PM             2,644 3.3 Python(Lambda Function).ipynb\n",
      "04/05/2024  06:18 PM             5,897 3.4 Python(Map,filter,reduce function).ipynb\n",
      "04/06/2024  11:30 AM             4,672 4.1 Python(Class).ipynb\n",
      "04/06/2024  02:43 PM             7,169 4.10 Python(Property Decorator).ipynb\n",
      "04/06/2024  02:31 PM                 2 4.2 Python(Polymorphisam).ipynb\n",
      "04/06/2024  12:10 PM            12,341 4.3 Python(Encapsulation).ipynb\n",
      "04/06/2024  01:07 PM            12,598 4.4 Python(Inheritnce).ipynb\n",
      "04/06/2024  01:18 PM             2,995 4.5 Python(Abstraction).ipynb\n",
      "04/06/2024  01:32 PM             3,369 4.6 Python(Decorator).ipynb\n",
      "04/06/2024  01:55 PM            11,099 4.7 Python(Class Method).ipynb\n",
      "04/06/2024  02:20 PM             4,512 4.8 Python(Static Method).ipynb\n",
      "04/06/2024  02:28 PM             6,872 4.9 Python(Dunder and Megic Method).ipynb\n",
      "04/07/2024  10:19 AM            12,404 5.1 Python(File).ipynb\n",
      "04/07/2024  05:27 PM             1,349 5.10 Python(Multiprocessing).ipynb\n",
      "04/07/2024  10:41 AM             4,061 5.2 Python(file).ipynb\n",
      "04/07/2024  10:40 AM             1,305 5.3 Python(file).ipynb\n",
      "04/07/2024  11:18 AM             2,971 5.4 Python(logging).ipynb\n",
      "04/07/2024  11:18 AM             1,228 5.5 Python(logger).ipynb\n",
      "04/07/2024  11:35 AM             5,297 5.6 Python(Exception Handling).ipynb\n",
      "04/07/2024  11:35 AM             1,548 5.7 Python(Custome Exception hndling).ipynb\n",
      "04/07/2024  11:53 AM             2,712 5.8 Python(List of Exception).ipynb\n",
      "04/07/2024  05:27 PM             7,286 5.9 Python(Multithreading).ipynb\n",
      "04/07/2024  12:55 PM                 0 6.1 Python(SQl With Python ).ipynb\n",
      "04/09/2024  07:03 PM                16 arjun.txt\n",
      "04/07/2024  10:32 AM                31 binary.bin\n",
      "04/07/2024  10:17 AM                38 copy.txt\n",
      "04/07/2024  10:22 AM                56 data.json\n",
      "04/07/2024  12:23 PM               456 data1.txt\n",
      "04/07/2024  12:23 PM               356 data2.txt\n",
      "04/07/2024  12:23 PM             2,599 data3.txt\n",
      "04/07/2024  10:28 AM                60 info.csv\n",
      "04/07/2024  10:56 AM               235 ingo.log\n",
      "04/07/2024  10:59 AM                54 logger.log\n",
      "04/05/2024  11:16 PM            40,408 Python Prectice Data Structure.ipynb\n",
      "04/05/2024  10:46 PM            58,998 Python Prectice(1,2,3).ipynb\n",
      "04/06/2024  12:04 AM            13,966 Python(Function) Practice.ipynb\n",
      "04/07/2024  10:08 AM                38 test.txt\n",
      "04/07/2024  10:39 AM                20 test1.txt\n",
      "              60 File(s)        431,510 bytes\n",
      "               2 Dir(s)  513,225,048,064 bytes free\n"
     ]
    }
   ],
   "source": [
    "ls"
   ]
  },
  {
   "cell_type": "code",
   "execution_count": 3,
   "metadata": {},
   "outputs": [],
   "source": [
    "with open('arjun.txt','w') as f:\n",
    "    f.write(\"I am again arjun singh\")\n",
    "    f.close()"
   ]
  },
  {
   "cell_type": "code",
   "execution_count": 4,
   "metadata": {},
   "outputs": [],
   "source": [
    "with open('arjun.txt','a') as f:\n",
    "    f.write(\"I am again again arjun singh\")\n",
    "    f.close()"
   ]
  },
  {
   "cell_type": "code",
   "execution_count": 5,
   "metadata": {},
   "outputs": [
    {
     "name": "stdout",
     "output_type": "stream",
     "text": [
      "I am again arjun singhI am again again arjun singh\n"
     ]
    }
   ],
   "source": [
    "with open('arjun.txt','r') as f:\n",
    "    print(f.read())"
   ]
  },
  {
   "cell_type": "code",
   "execution_count": 6,
   "metadata": {},
   "outputs": [
    {
     "data": {
      "text/plain": [
       "'I am again arjun singhI am again again arjun singh'"
      ]
     },
     "execution_count": 6,
     "metadata": {},
     "output_type": "execute_result"
    }
   ],
   "source": [
    "f = open('arjun.txt','r')\n",
    "f.read()"
   ]
  },
  {
   "cell_type": "code",
   "execution_count": 7,
   "metadata": {},
   "outputs": [
    {
     "data": {
      "text/plain": [
       "''"
      ]
     },
     "execution_count": 7,
     "metadata": {},
     "output_type": "execute_result"
    }
   ],
   "source": [
    "f.readline()"
   ]
  },
  {
   "cell_type": "code",
   "execution_count": 8,
   "metadata": {},
   "outputs": [
    {
     "data": {
      "text/plain": [
       "0"
      ]
     },
     "execution_count": 8,
     "metadata": {},
     "output_type": "execute_result"
    }
   ],
   "source": [
    "f.seek(0)"
   ]
  },
  {
   "cell_type": "code",
   "execution_count": 9,
   "metadata": {},
   "outputs": [
    {
     "data": {
      "text/plain": [
       "'I am again arjun singhI am again again arjun singh'"
      ]
     },
     "execution_count": 9,
     "metadata": {},
     "output_type": "execute_result"
    }
   ],
   "source": [
    "f.readline()"
   ]
  },
  {
   "cell_type": "code",
   "execution_count": 10,
   "metadata": {},
   "outputs": [],
   "source": [
    "import shutil"
   ]
  },
  {
   "cell_type": "code",
   "execution_count": 11,
   "metadata": {},
   "outputs": [
    {
     "data": {
      "text/plain": [
       "'copy_arjun.txt'"
      ]
     },
     "execution_count": 11,
     "metadata": {},
     "output_type": "execute_result"
    }
   ],
   "source": [
    "shutil.copy('arjun.txt','copy_arjun.txt')"
   ]
  },
  {
   "cell_type": "code",
   "execution_count": 12,
   "metadata": {},
   "outputs": [],
   "source": [
    "import io"
   ]
  },
  {
   "cell_type": "code",
   "execution_count": 13,
   "metadata": {},
   "outputs": [],
   "source": [
    "import os"
   ]
  },
  {
   "cell_type": "code",
   "execution_count": 14,
   "metadata": {},
   "outputs": [
    {
     "data": {
      "text/plain": [
       "50"
      ]
     },
     "execution_count": 14,
     "metadata": {},
     "output_type": "execute_result"
    }
   ],
   "source": [
    "os.path.getsize('arjun.txt')"
   ]
  },
  {
   "cell_type": "code",
   "execution_count": 17,
   "metadata": {},
   "outputs": [
    {
     "ename": "PermissionError",
     "evalue": "[WinError 32] The process cannot access the file because it is being used by another process: 'E:\\\\Pandas\\\\Python\\\\arjun.txt'",
     "output_type": "error",
     "traceback": [
      "\u001b[1;31m---------------------------------------------------------------------------\u001b[0m",
      "\u001b[1;31mPermissionError\u001b[0m                           Traceback (most recent call last)",
      "Cell \u001b[1;32mIn[17], line 1\u001b[0m\n\u001b[1;32m----> 1\u001b[0m \u001b[43mos\u001b[49m\u001b[38;5;241;43m.\u001b[39;49m\u001b[43mremove\u001b[49m\u001b[43m(\u001b[49m\u001b[38;5;124;43m'\u001b[39;49m\u001b[38;5;124;43mE:\u001b[39;49m\u001b[38;5;124;43m\\\u001b[39;49m\u001b[38;5;124;43mPandas\u001b[39;49m\u001b[38;5;124;43m\\\u001b[39;49m\u001b[38;5;124;43mPython\u001b[39;49m\u001b[38;5;130;43;01m\\\\\u001b[39;49;00m\u001b[38;5;124;43marjun.txt\u001b[39;49m\u001b[38;5;124;43m'\u001b[39;49m\u001b[43m)\u001b[49m\n",
      "\u001b[1;31mPermissionError\u001b[0m: [WinError 32] The process cannot access the file because it is being used by another process: 'E:\\\\Pandas\\\\Python\\\\arjun.txt'"
     ]
    }
   ],
   "source": [
    "os.remove('E:\\Pandas\\Python\\\\arjun.txt')"
   ]
  },
  {
   "cell_type": "code",
   "execution_count": null,
   "metadata": {},
   "outputs": [],
   "source": []
  }
 ],
 "metadata": {
  "kernelspec": {
   "display_name": "Python 3",
   "language": "python",
   "name": "python3"
  },
  "language_info": {
   "codemirror_mode": {
    "name": "ipython",
    "version": 3
   },
   "file_extension": ".py",
   "mimetype": "text/x-python",
   "name": "python",
   "nbconvert_exporter": "python",
   "pygments_lexer": "ipython3",
   "version": "3.11.4"
  }
 },
 "nbformat": 4,
 "nbformat_minor": 2
}
