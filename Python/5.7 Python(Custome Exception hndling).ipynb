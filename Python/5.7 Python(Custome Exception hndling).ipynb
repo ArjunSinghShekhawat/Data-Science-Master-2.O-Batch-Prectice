{
 "cells": [
  {
   "cell_type": "code",
   "execution_count": 1,
   "metadata": {},
   "outputs": [],
   "source": [
    "class validateAge(Exception):\n",
    "    def __init__(self,message):\n",
    "        self.message = message"
   ]
  },
  {
   "cell_type": "code",
   "execution_count": 5,
   "metadata": {},
   "outputs": [],
   "source": [
    "def validate(age):\n",
    "    if age<0:\n",
    "        raise validateAge('Negative age {}'.format(age))\n",
    "    elif age>110:\n",
    "        raise validateAge('More Greater age {}'.format(age))\n",
    "    else:\n",
    "        print(\"Age is {}\".format(age))"
   ]
  },
  {
   "cell_type": "code",
   "execution_count": 7,
   "metadata": {},
   "outputs": [
    {
     "name": "stdout",
     "output_type": "stream",
     "text": [
      "Age is 12\n"
     ]
    }
   ],
   "source": [
    "try:\n",
    "    age = int(input('enter age :'))\n",
    "    validate(age)\n",
    "except validateAge as e:\n",
    "    print(e)"
   ]
  },
  {
   "cell_type": "code",
   "execution_count": null,
   "metadata": {},
   "outputs": [],
   "source": []
  }
 ],
 "metadata": {
  "kernelspec": {
   "display_name": "Python 3",
   "language": "python",
   "name": "python3"
  },
  "language_info": {
   "codemirror_mode": {
    "name": "ipython",
    "version": 3
   },
   "file_extension": ".py",
   "mimetype": "text/x-python",
   "name": "python",
   "nbconvert_exporter": "python",
   "pygments_lexer": "ipython3",
   "version": "3.11.4"
  }
 },
 "nbformat": 4,
 "nbformat_minor": 2
}
